{
 "cells": [
  {
   "cell_type": "code",
   "execution_count": 1,
   "metadata": {
    "execution": {
     "iopub.execute_input": "2021-11-17T06:51:34.514048Z",
     "iopub.status.busy": "2021-11-17T06:51:34.513661Z",
     "iopub.status.idle": "2021-11-17T06:51:35.605244Z",
     "shell.execute_reply": "2021-11-17T06:51:35.604359Z",
     "shell.execute_reply.started": "2021-11-17T06:51:34.514013Z"
    }
   },
   "outputs": [],
   "source": [
    "import pandas as pd\n",
    "import matplotlib.pyplot as plt\n",
    "from sklearn import datasets  \n",
    "import numpy as np\n",
    "from sklearn.model_selection import train_test_split\n",
    "from sklearn.tree import  DecisionTreeClassifier\n",
    "from sklearn import tree\n",
    "from sklearn.metrics import classification_report"
   ]
  },
  {
   "cell_type": "code",
   "execution_count": 2,
   "metadata": {
    "execution": {
     "iopub.execute_input": "2021-11-17T06:51:35.608053Z",
     "iopub.status.busy": "2021-11-17T06:51:35.607660Z",
     "iopub.status.idle": "2021-11-17T06:51:35.617050Z",
     "shell.execute_reply": "2021-11-17T06:51:35.616048Z",
     "shell.execute_reply.started": "2021-11-17T06:51:35.608012Z"
    }
   },
   "outputs": [],
   "source": [
    "# import some data to play with\n",
    "iris = datasets.load_iris()"
   ]
  },
  {
   "cell_type": "code",
   "execution_count": 3,
   "metadata": {
    "execution": {
     "iopub.execute_input": "2021-11-17T06:51:35.619081Z",
     "iopub.status.busy": "2021-11-17T06:51:35.618646Z",
     "iopub.status.idle": "2021-11-17T06:51:35.638127Z",
     "shell.execute_reply": "2021-11-17T06:51:35.636909Z",
     "shell.execute_reply.started": "2021-11-17T06:51:35.619037Z"
    }
   },
   "outputs": [],
   "source": [
    "#Complete Iris dataset\n",
    "data=pd.DataFrame(iris.data,columns=[iris.feature_names])\n",
    "fdata=pd.concat((data,pd.DataFrame(iris.target)),axis=1)\n",
    "fdata=fdata.rename(columns= ({0:\"Species\"}))"
   ]
  },
  {
   "cell_type": "code",
   "execution_count": 4,
   "metadata": {
    "execution": {
     "iopub.execute_input": "2021-11-17T06:51:35.640802Z",
     "iopub.status.busy": "2021-11-17T06:51:35.640003Z",
     "iopub.status.idle": "2021-11-17T06:51:35.645971Z",
     "shell.execute_reply": "2021-11-17T06:51:35.644959Z",
     "shell.execute_reply.started": "2021-11-17T06:51:35.640760Z"
    }
   },
   "outputs": [],
   "source": [
    "x=iris.data\n",
    "y=iris.target"
   ]
  },
  {
   "cell_type": "code",
   "execution_count": 5,
   "metadata": {
    "execution": {
     "iopub.execute_input": "2021-11-17T06:51:35.650588Z",
     "iopub.status.busy": "2021-11-17T06:51:35.650192Z",
     "iopub.status.idle": "2021-11-17T06:51:35.658981Z",
     "shell.execute_reply": "2021-11-17T06:51:35.658312Z",
     "shell.execute_reply.started": "2021-11-17T06:51:35.650560Z"
    }
   },
   "outputs": [
    {
     "data": {
      "text/plain": [
       "array([0, 1, 2])"
      ]
     },
     "execution_count": 5,
     "metadata": {},
     "output_type": "execute_result"
    }
   ],
   "source": [
    "fdata['Species'].unique()"
   ]
  },
  {
   "cell_type": "code",
   "execution_count": 6,
   "metadata": {
    "execution": {
     "iopub.execute_input": "2021-11-17T06:51:35.661055Z",
     "iopub.status.busy": "2021-11-17T06:51:35.660663Z",
     "iopub.status.idle": "2021-11-17T06:51:35.672690Z",
     "shell.execute_reply": "2021-11-17T06:51:35.671045Z",
     "shell.execute_reply.started": "2021-11-17T06:51:35.661027Z"
    }
   },
   "outputs": [
    {
     "data": {
      "text/plain": [
       "0    50\n",
       "1    50\n",
       "2    50\n",
       "Name: Species, dtype: int64"
      ]
     },
     "execution_count": 6,
     "metadata": {},
     "output_type": "execute_result"
    }
   ],
   "source": [
    "fdata.Species.value_counts()"
   ]
  },
  {
   "cell_type": "code",
   "execution_count": 7,
   "metadata": {
    "execution": {
     "iopub.execute_input": "2021-11-17T06:51:35.675603Z",
     "iopub.status.busy": "2021-11-17T06:51:35.675160Z",
     "iopub.status.idle": "2021-11-17T06:51:35.680910Z",
     "shell.execute_reply": "2021-11-17T06:51:35.680267Z",
     "shell.execute_reply.started": "2021-11-17T06:51:35.675551Z"
    }
   },
   "outputs": [
    {
     "data": {
      "text/plain": [
       "[('sepal length (cm)',),\n",
       " ('sepal width (cm)',),\n",
       " ('petal length (cm)',),\n",
       " ('petal width (cm)',)]"
      ]
     },
     "execution_count": 7,
     "metadata": {},
     "output_type": "execute_result"
    }
   ],
   "source": [
    "colnames = list(data.columns)\n",
    "colnames"
   ]
  },
  {
   "cell_type": "code",
   "execution_count": 8,
   "metadata": {
    "execution": {
     "iopub.execute_input": "2021-11-17T06:51:35.682426Z",
     "iopub.status.busy": "2021-11-17T06:51:35.681979Z",
     "iopub.status.idle": "2021-11-17T06:51:35.690471Z",
     "shell.execute_reply": "2021-11-17T06:51:35.689651Z",
     "shell.execute_reply.started": "2021-11-17T06:51:35.682398Z"
    }
   },
   "outputs": [],
   "source": [
    "# Splitting data into training and testing data set\n",
    "x_train, x_test,y_train,y_test = train_test_split(x,y, test_size=0.2,random_state=40)"
   ]
  },
  {
   "cell_type": "markdown",
   "metadata": {},
   "source": [
    "### Building Decision Tree Classifier using Entropy Criteria"
   ]
  },
  {
   "cell_type": "code",
   "execution_count": 9,
   "metadata": {
    "execution": {
     "iopub.execute_input": "2021-11-17T06:51:35.692190Z",
     "iopub.status.busy": "2021-11-17T06:51:35.691702Z",
     "iopub.status.idle": "2021-11-17T06:51:35.705086Z",
     "shell.execute_reply": "2021-11-17T06:51:35.704010Z",
     "shell.execute_reply.started": "2021-11-17T06:51:35.692157Z"
    }
   },
   "outputs": [
    {
     "data": {
      "text/plain": [
       "DecisionTreeClassifier(criterion='entropy', max_depth=3)"
      ]
     },
     "execution_count": 9,
     "metadata": {},
     "output_type": "execute_result"
    }
   ],
   "source": [
    "model = DecisionTreeClassifier(criterion = 'entropy',max_depth=3)\n",
    "model.fit(x_train,y_train)"
   ]
  },
  {
   "cell_type": "code",
   "execution_count": 10,
   "metadata": {
    "execution": {
     "iopub.execute_input": "2021-11-17T06:51:35.707667Z",
     "iopub.status.busy": "2021-11-17T06:51:35.706951Z",
     "iopub.status.idle": "2021-11-17T06:51:35.716574Z",
     "shell.execute_reply": "2021-11-17T06:51:35.715377Z",
     "shell.execute_reply.started": "2021-11-17T06:51:35.707623Z"
    }
   },
   "outputs": [
    {
     "data": {
      "text/plain": [
       "5"
      ]
     },
     "execution_count": 10,
     "metadata": {},
     "output_type": "execute_result"
    }
   ],
   "source": [
    "model.get_n_leaves()"
   ]
  },
  {
   "cell_type": "code",
   "execution_count": 11,
   "metadata": {
    "execution": {
     "iopub.execute_input": "2021-11-17T06:51:35.718140Z",
     "iopub.status.busy": "2021-11-17T06:51:35.717660Z",
     "iopub.status.idle": "2021-11-17T06:51:35.729613Z",
     "shell.execute_reply": "2021-11-17T06:51:35.728910Z",
     "shell.execute_reply.started": "2021-11-17T06:51:35.718086Z"
    }
   },
   "outputs": [
    {
     "data": {
      "text/plain": [
       "1    13\n",
       "2     9\n",
       "0     8\n",
       "dtype: int64"
      ]
     },
     "execution_count": 11,
     "metadata": {},
     "output_type": "execute_result"
    }
   ],
   "source": [
    "preds = model.predict(x_test) # predicting on test data set \n",
    "pd.Series(preds).value_counts() # getting the count of each category "
   ]
  },
  {
   "cell_type": "code",
   "execution_count": 12,
   "metadata": {
    "execution": {
     "iopub.execute_input": "2021-11-17T06:51:35.731261Z",
     "iopub.status.busy": "2021-11-17T06:51:35.730751Z",
     "iopub.status.idle": "2021-11-17T06:51:35.736284Z",
     "shell.execute_reply": "2021-11-17T06:51:35.735631Z",
     "shell.execute_reply.started": "2021-11-17T06:51:35.731221Z"
    }
   },
   "outputs": [
    {
     "data": {
      "text/plain": [
       "array([0, 1, 2, 2, 1, 2, 1, 1, 1, 0, 1, 0, 0, 1, 1, 2, 2, 2, 1, 1, 2, 2,\n",
       "       1, 0, 1, 0, 0, 2, 0, 1])"
      ]
     },
     "execution_count": 12,
     "metadata": {},
     "output_type": "execute_result"
    }
   ],
   "source": [
    "preds"
   ]
  },
  {
   "cell_type": "code",
   "execution_count": 13,
   "metadata": {
    "execution": {
     "iopub.execute_input": "2021-11-17T06:51:35.737766Z",
     "iopub.status.busy": "2021-11-17T06:51:35.737306Z",
     "iopub.status.idle": "2021-11-17T06:51:35.783035Z",
     "shell.execute_reply": "2021-11-17T06:51:35.782334Z",
     "shell.execute_reply.started": "2021-11-17T06:51:35.737735Z"
    }
   },
   "outputs": [
    {
     "data": {
      "text/html": [
       "<div>\n",
       "<style scoped>\n",
       "    .dataframe tbody tr th:only-of-type {\n",
       "        vertical-align: middle;\n",
       "    }\n",
       "\n",
       "    .dataframe tbody tr th {\n",
       "        vertical-align: top;\n",
       "    }\n",
       "\n",
       "    .dataframe thead th {\n",
       "        text-align: right;\n",
       "    }\n",
       "</style>\n",
       "<table border=\"1\" class=\"dataframe\">\n",
       "  <thead>\n",
       "    <tr style=\"text-align: right;\">\n",
       "      <th>col_0</th>\n",
       "      <th>0</th>\n",
       "      <th>1</th>\n",
       "      <th>2</th>\n",
       "    </tr>\n",
       "    <tr>\n",
       "      <th>row_0</th>\n",
       "      <th></th>\n",
       "      <th></th>\n",
       "      <th></th>\n",
       "    </tr>\n",
       "  </thead>\n",
       "  <tbody>\n",
       "    <tr>\n",
       "      <th>0</th>\n",
       "      <td>8</td>\n",
       "      <td>0</td>\n",
       "      <td>0</td>\n",
       "    </tr>\n",
       "    <tr>\n",
       "      <th>1</th>\n",
       "      <td>0</td>\n",
       "      <td>12</td>\n",
       "      <td>0</td>\n",
       "    </tr>\n",
       "    <tr>\n",
       "      <th>2</th>\n",
       "      <td>0</td>\n",
       "      <td>1</td>\n",
       "      <td>9</td>\n",
       "    </tr>\n",
       "  </tbody>\n",
       "</table>\n",
       "</div>"
      ],
      "text/plain": [
       "col_0  0   1  2\n",
       "row_0          \n",
       "0      8   0  0\n",
       "1      0  12  0\n",
       "2      0   1  9"
      ]
     },
     "execution_count": 13,
     "metadata": {},
     "output_type": "execute_result"
    }
   ],
   "source": [
    "pd.crosstab(y_test,preds) # getting the 2 way table to understand the correct and wrong predictions"
   ]
  },
  {
   "cell_type": "code",
   "execution_count": 14,
   "metadata": {
    "execution": {
     "iopub.execute_input": "2021-11-17T06:51:35.784679Z",
     "iopub.status.busy": "2021-11-17T06:51:35.784188Z",
     "iopub.status.idle": "2021-11-17T06:51:35.789796Z",
     "shell.execute_reply": "2021-11-17T06:51:35.789022Z",
     "shell.execute_reply.started": "2021-11-17T06:51:35.784646Z"
    }
   },
   "outputs": [
    {
     "data": {
      "text/plain": [
       "0.9666666666666667"
      ]
     },
     "execution_count": 14,
     "metadata": {},
     "output_type": "execute_result"
    }
   ],
   "source": [
    "# Accuracy \n",
    "np.mean(preds==y_test)"
   ]
  },
  {
   "cell_type": "code",
   "execution_count": 15,
   "metadata": {
    "execution": {
     "iopub.execute_input": "2021-11-17T06:51:35.791317Z",
     "iopub.status.busy": "2021-11-17T06:51:35.790902Z",
     "iopub.status.idle": "2021-11-17T06:51:35.804345Z",
     "shell.execute_reply": "2021-11-17T06:51:35.803016Z",
     "shell.execute_reply.started": "2021-11-17T06:51:35.791283Z"
    }
   },
   "outputs": [
    {
     "name": "stdout",
     "output_type": "stream",
     "text": [
      "              precision    recall  f1-score   support\n",
      "\n",
      "           0       1.00      1.00      1.00         8\n",
      "           1       1.00      0.92      0.96        13\n",
      "           2       0.90      1.00      0.95         9\n",
      "\n",
      "    accuracy                           0.97        30\n",
      "   macro avg       0.97      0.97      0.97        30\n",
      "weighted avg       0.97      0.97      0.97        30\n",
      "\n"
     ]
    }
   ],
   "source": [
    "print(classification_report(preds,y_test))"
   ]
  },
  {
   "cell_type": "markdown",
   "metadata": {},
   "source": [
    "### Building Decision Tree Classifier (CART) using Gini Criteria"
   ]
  },
  {
   "cell_type": "code",
   "execution_count": 16,
   "metadata": {
    "execution": {
     "iopub.execute_input": "2021-11-17T06:51:35.805758Z",
     "iopub.status.busy": "2021-11-17T06:51:35.805491Z",
     "iopub.status.idle": "2021-11-17T06:51:35.810379Z",
     "shell.execute_reply": "2021-11-17T06:51:35.809599Z",
     "shell.execute_reply.started": "2021-11-17T06:51:35.805733Z"
    }
   },
   "outputs": [],
   "source": [
    "from sklearn.tree import DecisionTreeClassifier\n",
    "model_gini = DecisionTreeClassifier(criterion='gini', max_depth=3)"
   ]
  },
  {
   "cell_type": "code",
   "execution_count": 17,
   "metadata": {
    "execution": {
     "iopub.execute_input": "2021-11-17T06:51:35.812021Z",
     "iopub.status.busy": "2021-11-17T06:51:35.811451Z",
     "iopub.status.idle": "2021-11-17T06:51:35.823724Z",
     "shell.execute_reply": "2021-11-17T06:51:35.822992Z",
     "shell.execute_reply.started": "2021-11-17T06:51:35.811990Z"
    }
   },
   "outputs": [
    {
     "data": {
      "text/plain": [
       "DecisionTreeClassifier(max_depth=3)"
      ]
     },
     "execution_count": 17,
     "metadata": {},
     "output_type": "execute_result"
    }
   ],
   "source": [
    "model_gini.fit(x_train, y_train)"
   ]
  },
  {
   "cell_type": "code",
   "execution_count": 18,
   "metadata": {
    "execution": {
     "iopub.execute_input": "2021-11-17T06:51:35.825184Z",
     "iopub.status.busy": "2021-11-17T06:51:35.824748Z",
     "iopub.status.idle": "2021-11-17T06:51:35.833151Z",
     "shell.execute_reply": "2021-11-17T06:51:35.832337Z",
     "shell.execute_reply.started": "2021-11-17T06:51:35.825149Z"
    }
   },
   "outputs": [
    {
     "data": {
      "text/plain": [
       "0.9666666666666667"
      ]
     },
     "execution_count": 18,
     "metadata": {},
     "output_type": "execute_result"
    }
   ],
   "source": [
    "#Prediction and computing the accuracy\n",
    "pred=model.predict(x_test)\n",
    "np.mean(preds==y_test)"
   ]
  },
  {
   "cell_type": "markdown",
   "metadata": {},
   "source": [
    "#### Decision Tree Regression Example"
   ]
  },
  {
   "cell_type": "code",
   "execution_count": 19,
   "metadata": {
    "execution": {
     "iopub.execute_input": "2021-11-17T06:51:35.834735Z",
     "iopub.status.busy": "2021-11-17T06:51:35.834275Z",
     "iopub.status.idle": "2021-11-17T06:51:35.840971Z",
     "shell.execute_reply": "2021-11-17T06:51:35.839959Z",
     "shell.execute_reply.started": "2021-11-17T06:51:35.834698Z"
    }
   },
   "outputs": [],
   "source": [
    "# Decision Tree Regression\n",
    "from sklearn.tree import DecisionTreeRegressor"
   ]
  },
  {
   "cell_type": "code",
   "execution_count": 20,
   "metadata": {
    "execution": {
     "iopub.execute_input": "2021-11-17T06:51:35.843681Z",
     "iopub.status.busy": "2021-11-17T06:51:35.842587Z",
     "iopub.status.idle": "2021-11-17T06:51:35.851698Z",
     "shell.execute_reply": "2021-11-17T06:51:35.850635Z",
     "shell.execute_reply.started": "2021-11-17T06:51:35.843638Z"
    }
   },
   "outputs": [],
   "source": [
    "array = fdata.values\n",
    "X = array[:,0:3]\n",
    "y = array[:,3]"
   ]
  },
  {
   "cell_type": "code",
   "execution_count": 24,
   "metadata": {
    "execution": {
     "iopub.execute_input": "2021-11-17T06:51:35.853604Z",
     "iopub.status.busy": "2021-11-17T06:51:35.853175Z",
     "iopub.status.idle": "2021-11-17T06:51:35.862786Z",
     "shell.execute_reply": "2021-11-17T06:51:35.861850Z",
     "shell.execute_reply.started": "2021-11-17T06:51:35.853563Z"
    }
   },
   "outputs": [],
   "source": [
    "\n",
    "X_train, X_test, y_train, y_test = train_test_split(X, y, test_size=0.33, random_state=1)"
   ]
  },
  {
   "cell_type": "code",
   "execution_count": 22,
   "metadata": {
    "execution": {
     "iopub.execute_input": "2021-11-17T06:51:35.864618Z",
     "iopub.status.busy": "2021-11-17T06:51:35.864201Z",
     "iopub.status.idle": "2021-11-17T06:51:35.874035Z",
     "shell.execute_reply": "2021-11-17T06:51:35.873184Z",
     "shell.execute_reply.started": "2021-11-17T06:51:35.864577Z"
    }
   },
   "outputs": [
    {
     "data": {
      "text/plain": [
       "DecisionTreeRegressor()"
      ]
     },
     "execution_count": 22,
     "metadata": {},
     "output_type": "execute_result"
    }
   ],
   "source": [
    "model = DecisionTreeRegressor()\n",
    "model.fit(X_train, y_train)"
   ]
  },
  {
   "cell_type": "code",
   "execution_count": 23,
   "metadata": {
    "execution": {
     "iopub.execute_input": "2021-11-17T06:51:35.875727Z",
     "iopub.status.busy": "2021-11-17T06:51:35.875226Z",
     "iopub.status.idle": "2021-11-17T06:51:35.883983Z",
     "shell.execute_reply": "2021-11-17T06:51:35.883289Z",
     "shell.execute_reply.started": "2021-11-17T06:51:35.875677Z"
    }
   },
   "outputs": [
    {
     "data": {
      "text/plain": [
       "0.8585514467523112"
      ]
     },
     "execution_count": 23,
     "metadata": {},
     "output_type": "execute_result"
    }
   ],
   "source": [
    "#Find the accuracy\n",
    "model.score(X_test,y_test)"
   ]
  },
  {
   "cell_type": "code",
   "execution_count": null,
   "metadata": {},
   "outputs": [],
   "source": []
  }
 ],
 "metadata": {
  "kernelspec": {
   "display_name": "Python 3 (ipykernel)",
   "language": "python",
   "name": "python3"
  },
  "language_info": {
   "codemirror_mode": {
    "name": "ipython",
    "version": 3
   },
   "file_extension": ".py",
   "mimetype": "text/x-python",
   "name": "python",
   "nbconvert_exporter": "python",
   "pygments_lexer": "ipython3",
   "version": "3.9.7"
  }
 },
 "nbformat": 4,
 "nbformat_minor": 4
}
