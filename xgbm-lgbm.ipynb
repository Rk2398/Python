{
 "cells": [
  {
   "cell_type": "code",
   "execution_count": 1,
   "metadata": {
    "execution": {
     "iopub.execute_input": "2021-11-25T06:48:06.542903Z",
     "iopub.status.busy": "2021-11-25T06:48:06.542397Z",
     "iopub.status.idle": "2021-11-25T06:48:15.450253Z",
     "shell.execute_reply": "2021-11-25T06:48:15.449049Z",
     "shell.execute_reply.started": "2021-11-25T06:48:06.542870Z"
    }
   },
   "outputs": [],
   "source": [
    "!pip install xgboost"
   ]
  },
  {
   "cell_type": "code",
   "execution_count": 2,
   "metadata": {
    "execution": {
     "iopub.execute_input": "2021-11-25T06:48:15.453310Z",
     "iopub.status.busy": "2021-11-25T06:48:15.452875Z",
     "iopub.status.idle": "2021-11-25T06:48:17.420621Z",
     "shell.execute_reply": "2021-11-25T06:48:17.419539Z",
     "shell.execute_reply.started": "2021-11-25T06:48:15.453262Z"
    },
    "id": "Rd8feRsNAN0Q"
   },
   "outputs": [],
   "source": [
    "# First XGBoost model for Pima Indians dataset\n",
    "from numpy import loadtxt\n",
    "from xgboost import XGBClassifier\n",
    "from sklearn.model_selection import train_test_split\n",
    "from sklearn.metrics import accuracy_score\n"
   ]
  },
  {
   "cell_type": "code",
   "execution_count": 3,
   "metadata": {
    "execution": {
     "iopub.execute_input": "2021-11-25T06:48:17.422438Z",
     "iopub.status.busy": "2021-11-25T06:48:17.421969Z",
     "iopub.status.idle": "2021-11-25T06:48:17.444704Z",
     "shell.execute_reply": "2021-11-25T06:48:17.443650Z",
     "shell.execute_reply.started": "2021-11-25T06:48:17.422406Z"
    },
    "id": "HfZj0gYKASj-"
   },
   "outputs": [],
   "source": [
    "# load data\n",
    "dataset = loadtxt('../input/prima123/pima-indians-diabetes.data.csv', delimiter=\",\")\n",
    "# split data into X and y\n",
    "X = dataset[:,0:8]\n",
    "Y = dataset[:,8]\n"
   ]
  },
  {
   "cell_type": "code",
   "execution_count": 4,
   "metadata": {
    "execution": {
     "iopub.execute_input": "2021-11-25T06:48:17.446204Z",
     "iopub.status.busy": "2021-11-25T06:48:17.445913Z",
     "iopub.status.idle": "2021-11-25T06:48:17.454375Z",
     "shell.execute_reply": "2021-11-25T06:48:17.453443Z",
     "shell.execute_reply.started": "2021-11-25T06:48:17.446177Z"
    },
    "id": "AltDpRc9AUqB"
   },
   "outputs": [],
   "source": [
    "# split data into train and test sets\n",
    "seed = 7\n",
    "test_size = 0.33\n",
    "X_train, X_test, y_train, y_test = train_test_split(X, Y, test_size=test_size, random_state=seed)\n"
   ]
  },
  {
   "cell_type": "code",
   "execution_count": 5,
   "metadata": {
    "execution": {
     "iopub.execute_input": "2021-11-25T06:48:17.457621Z",
     "iopub.status.busy": "2021-11-25T06:48:17.457127Z",
     "iopub.status.idle": "2021-11-25T06:48:17.552874Z",
     "shell.execute_reply": "2021-11-25T06:48:17.552032Z",
     "shell.execute_reply.started": "2021-11-25T06:48:17.457589Z"
    },
    "id": "uasE5oYfAWFn",
    "outputId": "4e44f36f-092d-43ef-adf2-fc47ea151fe3"
   },
   "outputs": [],
   "source": [
    "# fit model no training data\n",
    "model = XGBClassifier()\n",
    "model.fit(X_train, y_train)\n"
   ]
  },
  {
   "cell_type": "code",
   "execution_count": 6,
   "metadata": {
    "execution": {
     "iopub.execute_input": "2021-11-25T06:48:17.555131Z",
     "iopub.status.busy": "2021-11-25T06:48:17.554527Z",
     "iopub.status.idle": "2021-11-25T06:48:17.563053Z",
     "shell.execute_reply": "2021-11-25T06:48:17.562171Z",
     "shell.execute_reply.started": "2021-11-25T06:48:17.555094Z"
    },
    "id": "HlMNBgyzAZNe"
   },
   "outputs": [],
   "source": [
    "# make predictions for test data\n",
    "y_pred = model.predict(X_test)\n",
    "predictions = [round(value) for value in y_pred]\n"
   ]
  },
  {
   "cell_type": "code",
   "execution_count": 7,
   "metadata": {
    "execution": {
     "iopub.execute_input": "2021-11-25T06:48:17.565248Z",
     "iopub.status.busy": "2021-11-25T06:48:17.564672Z",
     "iopub.status.idle": "2021-11-25T06:48:17.573647Z",
     "shell.execute_reply": "2021-11-25T06:48:17.572811Z",
     "shell.execute_reply.started": "2021-11-25T06:48:17.565210Z"
    },
    "id": "q-qAVXM3AbZi",
    "outputId": "4370608c-6db1-412c-c00f-0b1e163a1e02"
   },
   "outputs": [],
   "source": [
    "# evaluate predictions\n",
    "accuracy = accuracy_score(y_test, predictions)\n",
    "print(\"Accuracy: %.2f%%\" % (accuracy * 100.0))"
   ]
  },
  {
   "cell_type": "code",
   "execution_count": 8,
   "metadata": {
    "execution": {
     "iopub.execute_input": "2021-11-25T06:48:17.575661Z",
     "iopub.status.busy": "2021-11-25T06:48:17.575053Z",
     "iopub.status.idle": "2021-11-25T06:48:17.592966Z",
     "shell.execute_reply": "2021-11-25T06:48:17.592092Z",
     "shell.execute_reply.started": "2021-11-25T06:48:17.575619Z"
    },
    "id": "rXj4KChol4Zk"
   },
   "outputs": [],
   "source": [
    "predictions"
   ]
  },
  {
   "cell_type": "markdown",
   "metadata": {
    "id": "WepxshEIA5qy"
   },
   "source": [
    "***Light GBM***"
   ]
  },
  {
   "cell_type": "code",
   "execution_count": 9,
   "metadata": {
    "execution": {
     "iopub.execute_input": "2021-11-25T06:48:17.595160Z",
     "iopub.status.busy": "2021-11-25T06:48:17.594575Z",
     "iopub.status.idle": "2021-11-25T06:48:17.599684Z",
     "shell.execute_reply": "2021-11-25T06:48:17.598823Z",
     "shell.execute_reply.started": "2021-11-25T06:48:17.595117Z"
    },
    "id": "Y_aZcd2dBAL_"
   },
   "outputs": [],
   "source": [
    "import numpy as np\n",
    "#pip install lightgbm\n",
    "import matplotlib.pyplot as plt\n",
    "import pandas as pd\n"
   ]
  },
  {
   "cell_type": "code",
   "execution_count": 10,
   "metadata": {
    "execution": {
     "iopub.execute_input": "2021-11-25T06:48:17.601667Z",
     "iopub.status.busy": "2021-11-25T06:48:17.601059Z",
     "iopub.status.idle": "2021-11-25T06:48:17.622485Z",
     "shell.execute_reply": "2021-11-25T06:48:17.621328Z",
     "shell.execute_reply.started": "2021-11-25T06:48:17.601624Z"
    },
    "id": "hX6Cf0qJBCHh"
   },
   "outputs": [],
   "source": [
    "# Importing the dataset\n",
    "dataset = pd.read_csv('../input/prima123/pima-indians-diabetes.data.csv')\n",
    "# split data into X and y\n",
    "X = dataset.iloc[:,0:8]\n",
    "Y = dataset.iloc[:,8]\n"
   ]
  },
  {
   "cell_type": "code",
   "execution_count": 11,
   "metadata": {
    "execution": {
     "iopub.execute_input": "2021-11-25T06:48:17.627670Z",
     "iopub.status.busy": "2021-11-25T06:48:17.627276Z",
     "iopub.status.idle": "2021-11-25T06:48:17.644831Z",
     "shell.execute_reply": "2021-11-25T06:48:17.643834Z",
     "shell.execute_reply.started": "2021-11-25T06:48:17.627628Z"
    },
    "id": "RW0QEt1DBD2l"
   },
   "outputs": [],
   "source": [
    "# Splitting the dataset into the Training set and Test set\n",
    "\n",
    "x_train, x_test, y_train, y_test = train_test_split(X, Y, test_size = 0.25, random_state = 0)\n"
   ]
  },
  {
   "cell_type": "code",
   "execution_count": 12,
   "metadata": {
    "execution": {
     "iopub.execute_input": "2021-11-25T06:48:17.652792Z",
     "iopub.status.busy": "2021-11-25T06:48:17.651046Z",
     "iopub.status.idle": "2021-11-25T06:48:17.696020Z",
     "shell.execute_reply": "2021-11-25T06:48:17.695059Z",
     "shell.execute_reply.started": "2021-11-25T06:48:17.652755Z"
    },
    "id": "2tcjgTk-BFxH"
   },
   "outputs": [],
   "source": [
    "import lightgbm as lgb\n",
    "d_train = lgb.Dataset(x_train, label=y_train)"
   ]
  },
  {
   "cell_type": "markdown",
   "metadata": {},
   "source": []
  },
  {
   "cell_type": "code",
   "execution_count": 13,
   "metadata": {
    "execution": {
     "iopub.execute_input": "2021-11-25T06:48:17.702717Z",
     "iopub.status.busy": "2021-11-25T06:48:17.700476Z",
     "iopub.status.idle": "2021-11-25T06:48:17.711347Z",
     "shell.execute_reply": "2021-11-25T06:48:17.710412Z",
     "shell.execute_reply.started": "2021-11-25T06:48:17.702673Z"
    },
    "id": "UEa8q77rBRFr"
   },
   "outputs": [],
   "source": [
    "params = {}\n",
    "params['learning_rate'] = 0.003\n",
    "params['boosting_type'] = 'gbdt'\n",
    "params['objective'] = 'binary'\n",
    "params['metric'] = 'binary_logloss'\n",
    "params['sub_feature'] = 0.5\n",
    "params['num_leaves'] = 10\n",
    "params['min_data'] = 50\n",
    "params['max_depth'] = 10"
   ]
  },
  {
   "cell_type": "code",
   "execution_count": 14,
   "metadata": {
    "execution": {
     "iopub.execute_input": "2021-11-25T06:48:17.717879Z",
     "iopub.status.busy": "2021-11-25T06:48:17.715453Z",
     "iopub.status.idle": "2021-11-25T06:48:17.778650Z",
     "shell.execute_reply": "2021-11-25T06:48:17.777601Z",
     "shell.execute_reply.started": "2021-11-25T06:48:17.717834Z"
    },
    "id": "5ssLa99wBh_r"
   },
   "outputs": [],
   "source": [
    "clf = lgb.train(params, d_train, 100)"
   ]
  },
  {
   "cell_type": "code",
   "execution_count": 15,
   "metadata": {
    "execution": {
     "iopub.execute_input": "2021-11-25T06:48:17.783611Z",
     "iopub.status.busy": "2021-11-25T06:48:17.783213Z",
     "iopub.status.idle": "2021-11-25T06:48:17.795010Z",
     "shell.execute_reply": "2021-11-25T06:48:17.794118Z",
     "shell.execute_reply.started": "2021-11-25T06:48:17.783575Z"
    },
    "id": "CYYGYM9XBmlG"
   },
   "outputs": [],
   "source": [
    "#Prediction\n",
    "y_pred=clf.predict(x_test)"
   ]
  },
  {
   "cell_type": "code",
   "execution_count": 16,
   "metadata": {
    "execution": {
     "iopub.execute_input": "2021-11-25T06:48:17.802132Z",
     "iopub.status.busy": "2021-11-25T06:48:17.799762Z",
     "iopub.status.idle": "2021-11-25T06:48:17.809228Z",
     "shell.execute_reply": "2021-11-25T06:48:17.808380Z",
     "shell.execute_reply.started": "2021-11-25T06:48:17.802085Z"
    },
    "id": "0TCcf6cqDIqh"
   },
   "outputs": [],
   "source": [
    "predictions = [round(value) for value in y_pred]"
   ]
  },
  {
   "cell_type": "code",
   "execution_count": 17,
   "metadata": {
    "execution": {
     "iopub.execute_input": "2021-11-25T06:48:17.816130Z",
     "iopub.status.busy": "2021-11-25T06:48:17.813696Z",
     "iopub.status.idle": "2021-11-25T06:48:17.823560Z",
     "shell.execute_reply": "2021-11-25T06:48:17.822678Z",
     "shell.execute_reply.started": "2021-11-25T06:48:17.816082Z"
    },
    "id": "U8JXv7WNC2zn"
   },
   "outputs": [],
   "source": [
    "accuracy = accuracy_score(y_test, predictions)\n"
   ]
  },
  {
   "cell_type": "code",
   "execution_count": 18,
   "metadata": {
    "execution": {
     "iopub.execute_input": "2021-11-25T06:48:17.830759Z",
     "iopub.status.busy": "2021-11-25T06:48:17.828210Z",
     "iopub.status.idle": "2021-11-25T06:48:17.839911Z",
     "shell.execute_reply": "2021-11-25T06:48:17.839071Z",
     "shell.execute_reply.started": "2021-11-25T06:48:17.830712Z"
    },
    "id": "8XdXO7gVCol-",
    "outputId": "24d472f1-03d5-4eeb-b947-7f76ff315f4f"
   },
   "outputs": [],
   "source": [
    "accuracy"
   ]
  },
  {
   "cell_type": "code",
   "execution_count": null,
   "metadata": {
    "id": "n_ZCw6_iCqK6"
   },
   "outputs": [],
   "source": []
  }
 ],
 "metadata": {
  "kernelspec": {
   "display_name": "Python 3 (ipykernel)",
   "language": "python",
   "name": "python3"
  },
  "language_info": {
   "codemirror_mode": {
    "name": "ipython",
    "version": 3
   },
   "file_extension": ".py",
   "mimetype": "text/x-python",
   "name": "python",
   "nbconvert_exporter": "python",
   "pygments_lexer": "ipython3",
   "version": "3.9.7"
  }
 },
 "nbformat": 4,
 "nbformat_minor": 4
}
