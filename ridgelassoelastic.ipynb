{
 "cells": [
  {
   "cell_type": "code",
   "execution_count": 1,
   "metadata": {
    "execution": {
     "iopub.execute_input": "2021-11-30T06:07:18.075984Z",
     "iopub.status.busy": "2021-11-30T06:07:18.075411Z",
     "iopub.status.idle": "2021-11-30T06:07:19.233594Z",
     "shell.execute_reply": "2021-11-30T06:07:19.232450Z",
     "shell.execute_reply.started": "2021-11-30T06:07:18.075947Z"
    }
   },
   "outputs": [],
   "source": [
    "import pandas as pd \n",
    "import numpy as np \n",
    "import matplotlib.pyplot as plt \n",
    "from sklearn import datasets \n",
    "from sklearn.model_selection import train_test_split \n",
    "from sklearn.linear_model import LinearRegression"
   ]
  },
  {
   "cell_type": "code",
   "execution_count": 2,
   "metadata": {
    "execution": {
     "iopub.execute_input": "2021-11-30T06:07:19.235850Z",
     "iopub.status.busy": "2021-11-30T06:07:19.235524Z",
     "iopub.status.idle": "2021-11-30T06:07:19.253855Z",
     "shell.execute_reply": "2021-11-30T06:07:19.252931Z",
     "shell.execute_reply.started": "2021-11-30T06:07:19.235817Z"
    }
   },
   "outputs": [],
   "source": [
    "# Loading pre-defined Boston Dataset\n",
    "boston_dataset = datasets.load_boston()\n",
    "#print(boston_dataset.DESCR)"
   ]
  },
  {
   "cell_type": "code",
   "execution_count": 3,
   "metadata": {
    "execution": {
     "iopub.execute_input": "2021-11-30T06:07:19.255759Z",
     "iopub.status.busy": "2021-11-30T06:07:19.255437Z",
     "iopub.status.idle": "2021-11-30T06:07:19.286556Z",
     "shell.execute_reply": "2021-11-30T06:07:19.285238Z",
     "shell.execute_reply.started": "2021-11-30T06:07:19.255728Z"
    }
   },
   "outputs": [],
   "source": [
    "#Load the data and divide into X and Y varaiable\n",
    "boston_pd = pd.DataFrame(boston_dataset.data) \n",
    "boston_pd.columns = boston_dataset.feature_names \n",
    "boston_pd_target = np.asarray(boston_dataset.target) \n",
    "boston_pd['House Price'] = pd.Series(boston_pd_target) \n",
    "\n",
    "# input \n",
    "X = boston_pd.iloc[:, :-1] \n",
    "\n",
    "#output \n",
    "Y = boston_pd.iloc[:, -1] \n",
    "\n",
    "print(boston_pd.head()) \n"
   ]
  },
  {
   "cell_type": "code",
   "execution_count": 4,
   "metadata": {
    "execution": {
     "iopub.execute_input": "2021-11-30T06:07:19.288659Z",
     "iopub.status.busy": "2021-11-30T06:07:19.288313Z",
     "iopub.status.idle": "2021-11-30T06:07:19.319595Z",
     "shell.execute_reply": "2021-11-30T06:07:19.318311Z",
     "shell.execute_reply.started": "2021-11-30T06:07:19.288626Z"
    }
   },
   "outputs": [],
   "source": [
    "X"
   ]
  },
  {
   "cell_type": "code",
   "execution_count": 5,
   "metadata": {
    "execution": {
     "iopub.execute_input": "2021-11-30T06:07:19.323464Z",
     "iopub.status.busy": "2021-11-30T06:07:19.322803Z",
     "iopub.status.idle": "2021-11-30T06:07:19.337046Z",
     "shell.execute_reply": "2021-11-30T06:07:19.335606Z",
     "shell.execute_reply.started": "2021-11-30T06:07:19.323410Z"
    }
   },
   "outputs": [],
   "source": [
    "x_train, x_test, y_train, y_test = train_test_split(boston_pd.iloc[:, :-1],\n",
    "                                                    boston_pd.iloc[:, -1],\n",
    "                                                    test_size=0.25)\n",
    "\n",
    "(x_train.shape, y_train.shape,x_test.shape, y_test.shape)"
   ]
  },
  {
   "cell_type": "code",
   "execution_count": 6,
   "metadata": {
    "execution": {
     "iopub.execute_input": "2021-11-30T06:07:19.339338Z",
     "iopub.status.busy": "2021-11-30T06:07:19.338777Z",
     "iopub.status.idle": "2021-11-30T06:07:19.457755Z",
     "shell.execute_reply": "2021-11-30T06:07:19.456591Z",
     "shell.execute_reply.started": "2021-11-30T06:07:19.339293Z"
    }
   },
   "outputs": [],
   "source": [
    "# Apply multiple Linear Regression Model \n",
    "lreg = LinearRegression() \n",
    "lreg.fit(x_train, y_train) \n",
    "\n",
    "# Generate Prediction on test set \n",
    "lreg_y_pred = lreg.predict(x_test) \n",
    "\n",
    "# calculating Mean Squared Error (mse) \n",
    "mean_squared_error = np.mean((lreg_y_pred - y_test)**2) \n",
    "print(\"Mean squared Error on test set : \", mean_squared_error) \n",
    "\n",
    "# Putting together the coefficient and their corrsponding variable names \n",
    "lreg_coefficient = pd.DataFrame() \n",
    "lreg_coefficient[\"Columns\"] = x_train.columns \n",
    "lreg_coefficient['Coefficient Estimate'] = pd.Series(lreg.coef_) \n",
    "print(lreg_coefficient) \n"
   ]
  },
  {
   "cell_type": "code",
   "execution_count": 7,
   "metadata": {
    "execution": {
     "iopub.execute_input": "2021-11-30T06:07:19.460071Z",
     "iopub.status.busy": "2021-11-30T06:07:19.459427Z",
     "iopub.status.idle": "2021-11-30T06:07:19.812479Z",
     "shell.execute_reply": "2021-11-30T06:07:19.811033Z",
     "shell.execute_reply.started": "2021-11-30T06:07:19.460021Z"
    }
   },
   "outputs": [],
   "source": [
    "import seaborn as sns\n",
    "\n",
    "sns.barplot(x='Coefficient Estimate' , y='Columns', data=lreg_coefficient)"
   ]
  },
  {
   "cell_type": "code",
   "execution_count": 8,
   "metadata": {
    "execution": {
     "iopub.execute_input": "2021-11-30T06:07:19.814423Z",
     "iopub.status.busy": "2021-11-30T06:07:19.814099Z",
     "iopub.status.idle": "2021-11-30T06:07:19.849989Z",
     "shell.execute_reply": "2021-11-30T06:07:19.848144Z",
     "shell.execute_reply.started": "2021-11-30T06:07:19.814392Z"
    }
   },
   "outputs": [],
   "source": [
    "# import ridge regression from sklearn library \n",
    "from sklearn.linear_model import Ridge \n",
    "\n",
    "# Train the model \n",
    "ridgeR = Ridge(alpha = 1) \n",
    "ridgeR.fit(x_train, y_train) \n",
    "y_pred = ridgeR.predict(x_test) \n",
    "\n",
    "# calculate mean square error \n",
    "mean_squared_error_ridge = np.mean((y_pred - y_test)**2) \n",
    "print(mean_squared_error_ridge) \n",
    "\n",
    "# get ridge coefficient and print them \n",
    "ridge_coefficient = pd.DataFrame() \n",
    "ridge_coefficient[\"Columns\"]= x_train.columns \n",
    "ridge_coefficient['Coefficient Estimate'] = pd.Series(ridgeR.coef_) \n",
    "print(ridge_coefficient) \n"
   ]
  },
  {
   "cell_type": "markdown",
   "metadata": {},
   "source": [
    "#### # import Lasso regression from sklearn library \n",
    "\n"
   ]
  },
  {
   "cell_type": "code",
   "execution_count": 9,
   "metadata": {
    "execution": {
     "iopub.execute_input": "2021-11-30T06:07:19.851707Z",
     "iopub.status.busy": "2021-11-30T06:07:19.851396Z",
     "iopub.status.idle": "2021-11-30T06:07:19.878242Z",
     "shell.execute_reply": "2021-11-30T06:07:19.876790Z",
     "shell.execute_reply.started": "2021-11-30T06:07:19.851678Z"
    }
   },
   "outputs": [],
   "source": [
    "from sklearn.linear_model import Lasso \n",
    "\n",
    "# Train the model \n",
    "lasso = Lasso(alpha = 1) \n",
    "lasso.fit(x_train, y_train) \n",
    "y_pred1 = lasso.predict(x_test) \n",
    "\n",
    "# Calculate Mean Squared Error \n",
    "mean_squared_error = np.mean((y_pred1 - y_test)**2) \n",
    "print(\"Mean squared error on test set\", mean_squared_error) \n",
    "lasso_coeff = pd.DataFrame() \n",
    "lasso_coeff[\"Columns\"] = x_train.columns \n",
    "lasso_coeff['Coefficient Estimate'] = pd.Series(lasso.coef_) \n",
    "\n",
    "print(lasso_coeff) "
   ]
  },
  {
   "cell_type": "code",
   "execution_count": 10,
   "metadata": {
    "execution": {
     "iopub.execute_input": "2021-11-30T06:07:19.880731Z",
     "iopub.status.busy": "2021-11-30T06:07:19.880282Z",
     "iopub.status.idle": "2021-11-30T06:07:19.908129Z",
     "shell.execute_reply": "2021-11-30T06:07:19.906983Z",
     "shell.execute_reply.started": "2021-11-30T06:07:19.880684Z"
    }
   },
   "outputs": [],
   "source": [
    "# import model \n",
    "from sklearn.linear_model import ElasticNet \n",
    "\n",
    "# Train the model \n",
    "e_net = ElasticNet(alpha = .4,l1_ratio=.5) \n",
    "e_net.fit(x_train, y_train) \n",
    "\n",
    "# calculate the prediction and mean square error \n",
    "y_pred_elastic = e_net.predict(x_test) \n",
    "mean_squared_error = np.mean((y_pred_elastic - y_test)**2) \n",
    "print(\"Mean Squared Error on test set\", mean_squared_error) \n",
    "\n",
    "e_net_coeff = pd.DataFrame() \n",
    "e_net_coeff[\"Columns\"] = x_train.columns \n",
    "e_net_coeff['Coefficient Estimate'] = pd.Series(e_net.coef_) \n",
    "e_net_coeff \n"
   ]
  },
  {
   "cell_type": "code",
   "execution_count": null,
   "metadata": {},
   "outputs": [],
   "source": []
  }
 ],
 "metadata": {
  "kernelspec": {
   "display_name": "Python 3 (ipykernel)",
   "language": "python",
   "name": "python3"
  },
  "language_info": {
   "codemirror_mode": {
    "name": "ipython",
    "version": 3
   },
   "file_extension": ".py",
   "mimetype": "text/x-python",
   "name": "python",
   "nbconvert_exporter": "python",
   "pygments_lexer": "ipython3",
   "version": "3.9.7"
  }
 },
 "nbformat": 4,
 "nbformat_minor": 4
}
