{
 "cells": [
  {
   "cell_type": "code",
   "execution_count": null,
   "id": "b5edf9ec",
   "metadata": {},
   "outputs": [],
   "source": [
    "# List\n",
    "lst = []\n",
    "type(lst)"
   ]
  },
  {
   "cell_type": "code",
   "execution_count": null,
   "id": "b01384f6",
   "metadata": {},
   "outputs": [],
   "source": [
    "l1 = [1,2,4,3,6,5,8]\n",
    "l1"
   ]
  },
  {
   "cell_type": "code",
   "execution_count": null,
   "id": "1dfab9cb",
   "metadata": {},
   "outputs": [],
   "source": [
    "l2 = [1,2.3,'lara', [10,20,30],(34,23,45)]\n",
    "l2"
   ]
  },
  {
   "cell_type": "code",
   "execution_count": null,
   "id": "98e6f17a",
   "metadata": {},
   "outputs": [],
   "source": [
    "# Tuple\n",
    "tup = ()\n",
    "type(tup)"
   ]
  },
  {
   "cell_type": "code",
   "execution_count": null,
   "id": "e6796031",
   "metadata": {},
   "outputs": [],
   "source": [
    "t1 = (23,32,45,76,56)\n",
    "t1"
   ]
  },
  {
   "cell_type": "code",
   "execution_count": null,
   "id": "0681637d",
   "metadata": {},
   "outputs": [],
   "source": [
    "t2 = (9,8, 9.0, [1,2,3],(7,6,5),'Sara')\n",
    "t2"
   ]
  },
  {
   "cell_type": "code",
   "execution_count": null,
   "id": "c8e6d78b",
   "metadata": {},
   "outputs": [],
   "source": [
    "mystr = ''\n",
    "type(mystr)"
   ]
  },
  {
   "cell_type": "code",
   "execution_count": null,
   "id": "c846b809",
   "metadata": {},
   "outputs": [],
   "source": [
    "mystr ='abc'\n",
    "mystr"
   ]
  },
  {
   "cell_type": "code",
   "execution_count": null,
   "id": "85a07a26",
   "metadata": {},
   "outputs": [],
   "source": [
    "print(mystr)"
   ]
  },
  {
   "cell_type": "code",
   "execution_count": null,
   "id": "7a9dca68",
   "metadata": {},
   "outputs": [],
   "source": [
    "s1 = 'abc123'"
   ]
  },
  {
   "cell_type": "code",
   "execution_count": null,
   "id": "6e23d839",
   "metadata": {},
   "outputs": [],
   "source": [
    "# Access Elements\n",
    "l1 = [1,2,4,3,6,5,8,76,3,90,56,44]\n"
   ]
  },
  {
   "cell_type": "code",
   "execution_count": null,
   "id": "b0f0aeba",
   "metadata": {},
   "outputs": [],
   "source": [
    "l1[2]"
   ]
  },
  {
   "cell_type": "code",
   "execution_count": null,
   "id": "ec6176f8",
   "metadata": {},
   "outputs": [],
   "source": [
    "l1[1:5]"
   ]
  },
  {
   "cell_type": "code",
   "execution_count": null,
   "id": "36ea4600",
   "metadata": {},
   "outputs": [],
   "source": [
    "l1[:5]"
   ]
  },
  {
   "cell_type": "code",
   "execution_count": null,
   "id": "3f75da03",
   "metadata": {},
   "outputs": [],
   "source": [
    "l1[2:]"
   ]
  },
  {
   "cell_type": "code",
   "execution_count": null,
   "id": "06c705b3",
   "metadata": {},
   "outputs": [],
   "source": [
    "l1[:]"
   ]
  },
  {
   "cell_type": "code",
   "execution_count": null,
   "id": "8163ea2a",
   "metadata": {},
   "outputs": [],
   "source": [
    "list(enumerate(l1))"
   ]
  },
  {
   "cell_type": "code",
   "execution_count": null,
   "id": "37a78cc1",
   "metadata": {},
   "outputs": [],
   "source": [
    "l1[2:10:3]"
   ]
  },
  {
   "cell_type": "code",
   "execution_count": null,
   "id": "ce0ae7e3",
   "metadata": {},
   "outputs": [],
   "source": [
    "l1[10:2:-1]"
   ]
  },
  {
   "cell_type": "code",
   "execution_count": null,
   "id": "4ed6e4de",
   "metadata": {},
   "outputs": [],
   "source": [
    "l1[::-1]"
   ]
  },
  {
   "cell_type": "code",
   "execution_count": null,
   "id": "a47aefb1",
   "metadata": {},
   "outputs": [],
   "source": [
    "t1 = (1,2,4,3,6,5,8,76,3,90,56,44)"
   ]
  },
  {
   "cell_type": "code",
   "execution_count": null,
   "id": "ec40a4f6",
   "metadata": {},
   "outputs": [],
   "source": [
    "t1[4]"
   ]
  },
  {
   "cell_type": "code",
   "execution_count": null,
   "id": "e3288b23",
   "metadata": {},
   "outputs": [],
   "source": [
    "st1 = 'I love python'"
   ]
  },
  {
   "cell_type": "code",
   "execution_count": null,
   "id": "dd57c0a7",
   "metadata": {},
   "outputs": [],
   "source": [
    "list(enumerate(st1))"
   ]
  },
  {
   "cell_type": "code",
   "execution_count": null,
   "id": "3973893e",
   "metadata": {},
   "outputs": [],
   "source": [
    "def add_num(x,y):\n",
    "    total = x + y\n",
    "    return total"
   ]
  },
  {
   "cell_type": "code",
   "execution_count": null,
   "id": "ceebc730",
   "metadata": {},
   "outputs": [],
   "source": [
    "add_num(23,45)"
   ]
  },
  {
   "cell_type": "markdown",
   "id": "4651f8fd",
   "metadata": {},
   "source": [
    "## Iterating over sequences"
   ]
  },
  {
   "cell_type": "code",
   "execution_count": null,
   "id": "f6d76afd",
   "metadata": {},
   "outputs": [],
   "source": [
    "lst = ['Apples','Bread','Butter','Jam','Milk']\n",
    "lst"
   ]
  },
  {
   "cell_type": "code",
   "execution_count": null,
   "id": "98d2d0c2",
   "metadata": {},
   "outputs": [],
   "source": [
    "for elem in lst:\n",
    "    print(elem)\n",
    "    if elem == 'Apples':        \n",
    "        print('hi')\n",
    "        print('I love apples')\n",
    "    print('Hi')\n",
    "print(mystr)"
   ]
  },
  {
   "cell_type": "code",
   "execution_count": null,
   "id": "062cdf6a",
   "metadata": {},
   "outputs": [],
   "source": [
    "mystr = 'python'\n",
    "for c in mystr:\n",
    "    print(c)"
   ]
  },
  {
   "cell_type": "code",
   "execution_count": null,
   "id": "348f79ea",
   "metadata": {},
   "outputs": [],
   "source": [
    "tup =(1,3,5,7,9)\n",
    "for i in tup:\n",
    "    print(i)"
   ]
  },
  {
   "cell_type": "code",
   "execution_count": null,
   "id": "b710df7d",
   "metadata": {},
   "outputs": [],
   "source": [
    "for x in range(0,10,2):\n",
    "    print(x)"
   ]
  },
  {
   "cell_type": "markdown",
   "id": "681badcb",
   "metadata": {},
   "source": [
    "# Common Methods"
   ]
  },
  {
   "cell_type": "code",
   "execution_count": null,
   "id": "746740b0",
   "metadata": {},
   "outputs": [],
   "source": [
    "ll = [1,2,3,5,6,8,0]\n",
    "tup = (9,4,5,6)\n",
    "mystr = 'Happy'"
   ]
  },
  {
   "cell_type": "code",
   "execution_count": null,
   "id": "6c5d0700",
   "metadata": {},
   "outputs": [],
   "source": [
    "len(ll), len(tup),len(mystr)"
   ]
  },
  {
   "cell_type": "code",
   "execution_count": null,
   "id": "a7f11cf6",
   "metadata": {},
   "outputs": [],
   "source": [
    "# Membership Test\n",
    "3 in ll"
   ]
  },
  {
   "cell_type": "code",
   "execution_count": null,
   "id": "f7093391",
   "metadata": {},
   "outputs": [],
   "source": [
    "100 in ll , 100 not in ll"
   ]
  },
  {
   "cell_type": "code",
   "execution_count": null,
   "id": "b6a22b7e",
   "metadata": {},
   "outputs": [],
   "source": [
    "'a' in mystr , 'z' in mystr"
   ]
  },
  {
   "cell_type": "markdown",
   "id": "3c02d99f",
   "metadata": {},
   "source": [
    "# List methods"
   ]
  },
  {
   "cell_type": "code",
   "execution_count": null,
   "id": "93ee419b",
   "metadata": {},
   "outputs": [],
   "source": [
    "## Add an element\n",
    "l1 = [7,8,9]"
   ]
  },
  {
   "cell_type": "code",
   "execution_count": null,
   "id": "719ba128",
   "metadata": {},
   "outputs": [],
   "source": [
    "l1.append(10)"
   ]
  },
  {
   "cell_type": "code",
   "execution_count": null,
   "id": "a9325dcc",
   "metadata": {},
   "outputs": [],
   "source": [
    "l1"
   ]
  },
  {
   "cell_type": "code",
   "execution_count": null,
   "id": "d9f7429c",
   "metadata": {},
   "outputs": [],
   "source": [
    "l1.append([11,12,13])"
   ]
  },
  {
   "cell_type": "code",
   "execution_count": null,
   "id": "5290f467",
   "metadata": {},
   "outputs": [],
   "source": [
    "l1"
   ]
  },
  {
   "cell_type": "code",
   "execution_count": null,
   "id": "a3a3a8c7",
   "metadata": {},
   "outputs": [],
   "source": [
    "l1[4][2]"
   ]
  },
  {
   "cell_type": "code",
   "execution_count": null,
   "id": "545d4956",
   "metadata": {},
   "outputs": [],
   "source": [
    "lst = [11,23,24,54,65,76,78]"
   ]
  },
  {
   "cell_type": "code",
   "execution_count": null,
   "id": "fffed45d",
   "metadata": {},
   "outputs": [],
   "source": [
    "lst.insert(2,33)\n",
    "lst"
   ]
  },
  {
   "cell_type": "code",
   "execution_count": null,
   "id": "e5b14d54",
   "metadata": {},
   "outputs": [],
   "source": [
    "lst[2] = 100\n",
    "lst"
   ]
  },
  {
   "cell_type": "markdown",
   "id": "7ef2b690",
   "metadata": {},
   "source": [
    "## Delete elements"
   ]
  },
  {
   "cell_type": "code",
   "execution_count": null,
   "id": "8d49b046",
   "metadata": {},
   "outputs": [],
   "source": [
    "del lst[2]\n",
    "lstc"
   ]
  },
  {
   "cell_type": "code",
   "execution_count": null,
   "id": "1e4df826",
   "metadata": {},
   "outputs": [],
   "source": [
    "lst.pop()"
   ]
  },
  {
   "cell_type": "code",
   "execution_count": null,
   "id": "0184249a",
   "metadata": {},
   "outputs": [],
   "source": [
    "lst"
   ]
  },
  {
   "cell_type": "code",
   "execution_count": null,
   "id": "1c9080be",
   "metadata": {},
   "outputs": [],
   "source": [
    "lst.pop()"
   ]
  },
  {
   "cell_type": "code",
   "execution_count": null,
   "id": "604d911f",
   "metadata": {},
   "outputs": [],
   "source": [
    "lst"
   ]
  },
  {
   "cell_type": "code",
   "execution_count": null,
   "id": "5180cccf",
   "metadata": {},
   "outputs": [],
   "source": [
    "lst.pop(1)"
   ]
  },
  {
   "cell_type": "code",
   "execution_count": null,
   "id": "84e97c9f",
   "metadata": {},
   "outputs": [],
   "source": [
    "lst"
   ]
  },
  {
   "cell_type": "code",
   "execution_count": null,
   "id": "80a01c35",
   "metadata": {},
   "outputs": [],
   "source": [
    "lst.clear()"
   ]
  },
  {
   "cell_type": "code",
   "execution_count": null,
   "id": "0ae39039",
   "metadata": {},
   "outputs": [],
   "source": [
    "lst"
   ]
  },
  {
   "cell_type": "code",
   "execution_count": null,
   "id": "1ba63fdb",
   "metadata": {},
   "outputs": [],
   "source": [
    "lst = [11,23,24,54,65,76,78]"
   ]
  },
  {
   "cell_type": "code",
   "execution_count": null,
   "id": "ce6b8129",
   "metadata": {},
   "outputs": [],
   "source": [
    "del lst[2:5]"
   ]
  },
  {
   "cell_type": "code",
   "execution_count": null,
   "id": "9ffc0e72",
   "metadata": {},
   "outputs": [],
   "source": [
    "lst"
   ]
  },
  {
   "cell_type": "markdown",
   "id": "4eeffd3d",
   "metadata": {},
   "source": [
    "## Reverse a list"
   ]
  },
  {
   "cell_type": "code",
   "execution_count": null,
   "id": "dbdd3021",
   "metadata": {},
   "outputs": [],
   "source": [
    "lst = [55,90,23,43,78]\n",
    "lst.reverse()"
   ]
  },
  {
   "cell_type": "code",
   "execution_count": null,
   "id": "5bd340c6",
   "metadata": {},
   "outputs": [],
   "source": [
    "lst"
   ]
  },
  {
   "cell_type": "code",
   "execution_count": null,
   "id": "2127aa58",
   "metadata": {},
   "outputs": [],
   "source": [
    "lst = [55,90,23,43,78]\n",
    "rev_lst = lst[::-1]\n",
    "rev_lst"
   ]
  },
  {
   "cell_type": "code",
   "execution_count": null,
   "id": "3b927a53",
   "metadata": {},
   "outputs": [],
   "source": [
    "lst"
   ]
  },
  {
   "cell_type": "markdown",
   "id": "4323dd79",
   "metadata": {},
   "source": [
    "## Sorting"
   ]
  },
  {
   "cell_type": "code",
   "execution_count": null,
   "id": "1aa2fcaf",
   "metadata": {},
   "outputs": [],
   "source": [
    "lst = [55,90,23,43,78]\n",
    "lst.sort(reverse=True)"
   ]
  },
  {
   "cell_type": "code",
   "execution_count": null,
   "id": "f1640423",
   "metadata": {},
   "outputs": [],
   "source": [
    "lst"
   ]
  },
  {
   "cell_type": "code",
   "execution_count": null,
   "id": "1f036215",
   "metadata": {},
   "outputs": [],
   "source": [
    "lst[::-1]"
   ]
  },
  {
   "cell_type": "code",
   "execution_count": null,
   "id": "299fb02d",
   "metadata": {},
   "outputs": [],
   "source": [
    "lst.sort()"
   ]
  },
  {
   "cell_type": "code",
   "execution_count": null,
   "id": "fd507b53",
   "metadata": {},
   "outputs": [],
   "source": [
    "lst"
   ]
  },
  {
   "cell_type": "code",
   "execution_count": null,
   "id": "e22db5ea",
   "metadata": {},
   "outputs": [],
   "source": [
    "lst2 = [2,3.5,7,8.6,2.3,10]\n",
    "lst2.sort()"
   ]
  },
  {
   "cell_type": "code",
   "execution_count": null,
   "id": "0a4ad48a",
   "metadata": {},
   "outputs": [],
   "source": [
    "lst2"
   ]
  },
  {
   "cell_type": "code",
   "execution_count": null,
   "id": "16de550c",
   "metadata": {},
   "outputs": [],
   "source": [
    "lst = [1,[2,3],'abc']"
   ]
  },
  {
   "cell_type": "code",
   "execution_count": null,
   "id": "b6e2d118",
   "metadata": {},
   "outputs": [],
   "source": [
    "lst.sort()"
   ]
  },
  {
   "cell_type": "markdown",
   "id": "03857ddf",
   "metadata": {},
   "source": [
    "## List Comprehension"
   ]
  },
  {
   "cell_type": "code",
   "execution_count": null,
   "id": "45a4a655",
   "metadata": {},
   "outputs": [],
   "source": [
    "sqr = []\n",
    "for i in range(1,11):\n",
    "    if i%2 == 0:\n",
    "        sqr.append(i*i)"
   ]
  },
  {
   "cell_type": "code",
   "execution_count": null,
   "id": "38bb5813",
   "metadata": {},
   "outputs": [],
   "source": [
    "sqr"
   ]
  },
  {
   "cell_type": "code",
   "execution_count": null,
   "id": "199b4274",
   "metadata": {},
   "outputs": [],
   "source": [
    "sqr_lc = [i*i for i in range(1,11)]\n",
    "sqr_lc"
   ]
  },
  {
   "cell_type": "code",
   "execution_count": null,
   "id": "eeacc32b",
   "metadata": {},
   "outputs": [],
   "source": [
    "even_no = [i for i in range(0,21) if i%2 == 0]\n",
    "even_no"
   ]
  },
  {
   "cell_type": "code",
   "execution_count": null,
   "id": "2a7bc0c9",
   "metadata": {},
   "outputs": [],
   "source": [
    "even_no = [i if i%2 == 0 else 0 for i in range(0,21)]\n",
    "even_no"
   ]
  },
  {
   "cell_type": "markdown",
   "id": "0b1fe8e7",
   "metadata": {},
   "source": [
    "# Tuple"
   ]
  },
  {
   "cell_type": "code",
   "execution_count": null,
   "id": "4d832303",
   "metadata": {},
   "outputs": [],
   "source": [
    "t1 =(1,[22,33,44], 6, 8)\n",
    "t1"
   ]
  },
  {
   "cell_type": "code",
   "execution_count": null,
   "id": "70417926",
   "metadata": {},
   "outputs": [],
   "source": [
    "t1[6] = 99"
   ]
  },
  {
   "cell_type": "code",
   "execution_count": null,
   "id": "db756e55",
   "metadata": {},
   "outputs": [],
   "source": [
    "t1[1].append(99)"
   ]
  },
  {
   "cell_type": "code",
   "execution_count": null,
   "id": "e9cd92c4",
   "metadata": {},
   "outputs": [],
   "source": [
    "t1"
   ]
  },
  {
   "cell_type": "markdown",
   "id": "f006165c",
   "metadata": {},
   "source": [
    "# String"
   ]
  },
  {
   "cell_type": "code",
   "execution_count": 1,
   "id": "2d8d4bf5",
   "metadata": {},
   "outputs": [
    {
     "data": {
      "text/plain": [
       "'Python'"
      ]
     },
     "execution_count": 1,
     "metadata": {},
     "output_type": "execute_result"
    }
   ],
   "source": [
    "str1 = 'python'\n",
    "str1.capitalize()"
   ]
  },
  {
   "cell_type": "code",
   "execution_count": 2,
   "id": "dc915f91",
   "metadata": {},
   "outputs": [
    {
     "data": {
      "text/plain": [
       "'python'"
      ]
     },
     "execution_count": 2,
     "metadata": {},
     "output_type": "execute_result"
    }
   ],
   "source": [
    "str1"
   ]
  },
  {
   "cell_type": "code",
   "execution_count": 3,
   "id": "12d61008",
   "metadata": {},
   "outputs": [
    {
     "data": {
      "text/plain": [
       "'Hello World'"
      ]
     },
     "execution_count": 3,
     "metadata": {},
     "output_type": "execute_result"
    }
   ],
   "source": [
    "x = 'hello world'\n",
    "x.title()"
   ]
  },
  {
   "cell_type": "code",
   "execution_count": 4,
   "id": "f5d30aaf",
   "metadata": {},
   "outputs": [
    {
     "data": {
      "text/plain": [
       "(True, False)"
      ]
     },
     "execution_count": 4,
     "metadata": {},
     "output_type": "execute_result"
    }
   ],
   "source": [
    "str1.startswith('py'), str1.startswith('fy')"
   ]
  },
  {
   "cell_type": "code",
   "execution_count": 5,
   "id": "2677d882",
   "metadata": {},
   "outputs": [
    {
     "data": {
      "text/plain": [
       "(True, False)"
      ]
     },
     "execution_count": 5,
     "metadata": {},
     "output_type": "execute_result"
    }
   ],
   "source": [
    "str1.endswith('on'), str1.endswith('fy')"
   ]
  },
  {
   "cell_type": "code",
   "execution_count": 6,
   "id": "ff83f94e",
   "metadata": {},
   "outputs": [],
   "source": [
    "my_str = 'pythonista'"
   ]
  },
  {
   "cell_type": "code",
   "execution_count": 7,
   "id": "f1434705",
   "metadata": {},
   "outputs": [
    {
     "data": {
      "text/plain": [
       "[(0, 'p'),\n",
       " (1, 'y'),\n",
       " (2, 't'),\n",
       " (3, 'h'),\n",
       " (4, 'o'),\n",
       " (5, 'n'),\n",
       " (6, 'i'),\n",
       " (7, 's'),\n",
       " (8, 't'),\n",
       " (9, 'a')]"
      ]
     },
     "execution_count": 7,
     "metadata": {},
     "output_type": "execute_result"
    }
   ],
   "source": [
    "list(enumerate(my_str))"
   ]
  },
  {
   "cell_type": "code",
   "execution_count": 8,
   "id": "17dd04b4",
   "metadata": {},
   "outputs": [
    {
     "data": {
      "text/plain": [
       "2"
      ]
     },
     "execution_count": 8,
     "metadata": {},
     "output_type": "execute_result"
    }
   ],
   "source": [
    "my_str.find('t')"
   ]
  },
  {
   "cell_type": "code",
   "execution_count": 9,
   "id": "02d75bbe",
   "metadata": {},
   "outputs": [
    {
     "data": {
      "text/plain": [
       "8"
      ]
     },
     "execution_count": 9,
     "metadata": {},
     "output_type": "execute_result"
    }
   ],
   "source": [
    "my_str.index('t',3,10)"
   ]
  },
  {
   "cell_type": "code",
   "execution_count": 20,
   "id": "9b2eae52",
   "metadata": {},
   "outputs": [],
   "source": [
    "my_str = 'python$'"
   ]
  },
  {
   "cell_type": "code",
   "execution_count": 21,
   "id": "540a3c8c",
   "metadata": {},
   "outputs": [
    {
     "data": {
      "text/plain": [
       "(False, False, False)"
      ]
     },
     "execution_count": 21,
     "metadata": {},
     "output_type": "execute_result"
    }
   ],
   "source": [
    "my_str.isalpha(), my_str.isalnum(), my_str.isnumeric()"
   ]
  },
  {
   "cell_type": "code",
   "execution_count": 22,
   "id": "f1d2530f",
   "metadata": {},
   "outputs": [
    {
     "data": {
      "text/plain": [
       "(True, False)"
      ]
     },
     "execution_count": 22,
     "metadata": {},
     "output_type": "execute_result"
    }
   ],
   "source": [
    "'python'.islower(),'Python'.islower()"
   ]
  },
  {
   "cell_type": "code",
   "execution_count": 23,
   "id": "fdcef537",
   "metadata": {},
   "outputs": [
    {
     "data": {
      "text/plain": [
       "('python', 'PYTHON', 'pYTHON')"
      ]
     },
     "execution_count": 23,
     "metadata": {},
     "output_type": "execute_result"
    }
   ],
   "source": [
    "'Python'.lower(), 'python'.upper(), 'Python'.swapcase()"
   ]
  },
  {
   "cell_type": "code",
   "execution_count": 24,
   "id": "2e455cf7",
   "metadata": {},
   "outputs": [
    {
     "data": {
      "text/plain": [
       "(False, True)"
      ]
     },
     "execution_count": 24,
     "metadata": {},
     "output_type": "execute_result"
    }
   ],
   "source": [
    "''.isspace(), ' '.isspace()"
   ]
  },
  {
   "cell_type": "code",
   "execution_count": 25,
   "id": "52bff364",
   "metadata": {},
   "outputs": [
    {
     "data": {
      "text/plain": [
       "('python', '  python', 'python  ')"
      ]
     },
     "execution_count": 25,
     "metadata": {},
     "output_type": "execute_result"
    }
   ],
   "source": [
    "'  python  '.strip(), '  python  '.rstrip(), '  python  '.lstrip()"
   ]
  },
  {
   "cell_type": "code",
   "execution_count": 26,
   "id": "380c4d39",
   "metadata": {},
   "outputs": [
    {
     "data": {
      "text/plain": [
       "['apple', 'orange', 'kiwi', 'banana']"
      ]
     },
     "execution_count": 26,
     "metadata": {},
     "output_type": "execute_result"
    }
   ],
   "source": [
    "'apple,orange,kiwi,banana'.split(',')"
   ]
  },
  {
   "cell_type": "code",
   "execution_count": 28,
   "id": "410f0915",
   "metadata": {},
   "outputs": [
    {
     "data": {
      "text/plain": [
       "['apple,orange', 'kiwi', 'banana']"
      ]
     },
     "execution_count": 28,
     "metadata": {},
     "output_type": "execute_result"
    }
   ],
   "source": [
    "'apple,orange;kiwi;banana'.split(';')"
   ]
  },
  {
   "cell_type": "code",
   "execution_count": null,
   "id": "901af3d0",
   "metadata": {},
   "outputs": [],
   "source": []
  }
 ],
 "metadata": {
  "kernelspec": {
   "display_name": "Python 3",
   "language": "python",
   "name": "python3"
  },
  "language_info": {
   "codemirror_mode": {
    "name": "ipython",
    "version": 3
   },
   "file_extension": ".py",
   "mimetype": "text/x-python",
   "name": "python",
   "nbconvert_exporter": "python",
   "pygments_lexer": "ipython3",
   "version": "3.8.8"
  }
 },
 "nbformat": 4,
 "nbformat_minor": 5
}
