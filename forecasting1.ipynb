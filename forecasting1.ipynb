{
 "cells": [
  {
   "cell_type": "markdown",
   "metadata": {},
   "source": [
    "#### Line plot"
   ]
  },
  {
   "cell_type": "code",
   "execution_count": 1,
   "metadata": {
    "execution": {
     "iopub.execute_input": "2021-12-14T06:46:21.735067Z",
     "iopub.status.busy": "2021-12-14T06:46:21.734641Z",
     "iopub.status.idle": "2021-12-14T06:46:21.739828Z",
     "shell.execute_reply": "2021-12-14T06:46:21.739049Z",
     "shell.execute_reply.started": "2021-12-14T06:46:21.735034Z"
    }
   },
   "outputs": [],
   "source": [
    "# create a line plot\n",
    "from pandas import read_csv\n",
    "from matplotlib import pyplot"
   ]
  },
  {
   "cell_type": "code",
   "execution_count": 2,
   "metadata": {
    "execution": {
     "iopub.execute_input": "2021-12-14T06:46:21.748169Z",
     "iopub.status.busy": "2021-12-14T06:46:21.747549Z",
     "iopub.status.idle": "2021-12-14T06:46:22.137064Z",
     "shell.execute_reply": "2021-12-14T06:46:22.135753Z",
     "shell.execute_reply.started": "2021-12-14T06:46:21.748112Z"
    }
   },
   "outputs": [],
   "source": [
    "series = read_csv('../input/dailyminimumtemp/daily-minimum-temperatures.csv', header=0, index_col=0,parse_dates=True)\n",
    "series.plot()\n",
    "pyplot.show()"
   ]
  },
  {
   "cell_type": "markdown",
   "metadata": {},
   "source": [
    "#### Histogram and Density Plots"
   ]
  },
  {
   "cell_type": "code",
   "execution_count": 3,
   "metadata": {
    "execution": {
     "iopub.execute_input": "2021-12-14T06:46:22.140823Z",
     "iopub.status.busy": "2021-12-14T06:46:22.140476Z",
     "iopub.status.idle": "2021-12-14T06:46:22.313219Z",
     "shell.execute_reply": "2021-12-14T06:46:22.311980Z",
     "shell.execute_reply.started": "2021-12-14T06:46:22.140789Z"
    }
   },
   "outputs": [],
   "source": [
    "\n",
    "series.hist()\n",
    "pyplot.show()"
   ]
  },
  {
   "cell_type": "code",
   "execution_count": 4,
   "metadata": {
    "execution": {
     "iopub.execute_input": "2021-12-14T06:46:22.315205Z",
     "iopub.status.busy": "2021-12-14T06:46:22.314818Z",
     "iopub.status.idle": "2021-12-14T06:46:23.371353Z",
     "shell.execute_reply": "2021-12-14T06:46:23.370180Z",
     "shell.execute_reply.started": "2021-12-14T06:46:22.315169Z"
    }
   },
   "outputs": [],
   "source": [
    "# create a density plot\n",
    "\n",
    "series = read_csv('../input/dailyminimumtemp/daily-minimum-temperatures.csv', header=0, index_col=0,parse_dates=True)\n",
    "series.plot(kind='kde')\n",
    "pyplot.show()"
   ]
  },
  {
   "cell_type": "markdown",
   "metadata": {},
   "source": [
    "#### Lag plot"
   ]
  },
  {
   "cell_type": "code",
   "execution_count": 5,
   "metadata": {
    "execution": {
     "iopub.execute_input": "2021-12-14T06:46:23.373765Z",
     "iopub.status.busy": "2021-12-14T06:46:23.373311Z",
     "iopub.status.idle": "2021-12-14T06:46:23.546864Z",
     "shell.execute_reply": "2021-12-14T06:46:23.545981Z",
     "shell.execute_reply.started": "2021-12-14T06:46:23.373728Z"
    }
   },
   "outputs": [],
   "source": [
    "# create a scatter plot\n",
    "\n",
    "from pandas.plotting import lag_plot\n",
    "\n",
    "lag_plot(series)\n",
    "pyplot.show()"
   ]
  },
  {
   "cell_type": "code",
   "execution_count": 6,
   "metadata": {
    "execution": {
     "iopub.execute_input": "2021-12-14T06:46:23.549637Z",
     "iopub.status.busy": "2021-12-14T06:46:23.549309Z",
     "iopub.status.idle": "2021-12-14T06:46:23.942740Z",
     "shell.execute_reply": "2021-12-14T06:46:23.941719Z",
     "shell.execute_reply.started": "2021-12-14T06:46:23.549604Z"
    }
   },
   "outputs": [],
   "source": [
    "# create an autocorrelation plot\n",
    "\n",
    "from statsmodels.graphics.tsaplots import plot_acf\n",
    "plot_acf(series,lags=30)\n",
    "pyplot.show()"
   ]
  },
  {
   "cell_type": "code",
   "execution_count": null,
   "metadata": {},
   "outputs": [],
   "source": []
  }
 ],
 "metadata": {
  "kernelspec": {
   "display_name": "Python 3 (ipykernel)",
   "language": "python",
   "name": "python3"
  },
  "language_info": {
   "codemirror_mode": {
    "name": "ipython",
    "version": 3
   },
   "file_extension": ".py",
   "mimetype": "text/x-python",
   "name": "python",
   "nbconvert_exporter": "python",
   "pygments_lexer": "ipython3",
   "version": "3.9.7"
  }
 },
 "nbformat": 4,
 "nbformat_minor": 4
}
