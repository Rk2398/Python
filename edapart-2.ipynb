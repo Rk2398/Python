{
 "cells": [
  {
   "cell_type": "markdown",
   "metadata": {},
   "source": [
    "### Label Encoder"
   ]
  },
  {
   "cell_type": "code",
   "execution_count": 1,
   "metadata": {
    "execution": {
     "iopub.execute_input": "2021-11-18T06:13:04.910313Z",
     "iopub.status.busy": "2021-11-18T06:13:04.909684Z",
     "iopub.status.idle": "2021-11-18T06:13:05.708588Z",
     "shell.execute_reply": "2021-11-18T06:13:05.707805Z",
     "shell.execute_reply.started": "2021-11-18T06:13:04.910271Z"
    }
   },
   "outputs": [],
   "source": [
    "from sklearn.preprocessing import LabelEncoder\n",
    "import pandas as pd"
   ]
  },
  {
   "cell_type": "code",
   "execution_count": 2,
   "metadata": {
    "execution": {
     "iopub.execute_input": "2021-11-18T06:13:05.711103Z",
     "iopub.status.busy": "2021-11-18T06:13:05.710804Z",
     "iopub.status.idle": "2021-11-18T06:13:05.735365Z",
     "shell.execute_reply": "2021-11-18T06:13:05.734639Z",
     "shell.execute_reply.started": "2021-11-18T06:13:05.711075Z"
    }
   },
   "outputs": [],
   "source": [
    "data =pd.read_csv(\"../input/eda123/iris (1).csv\",index_col=0)"
   ]
  },
  {
   "cell_type": "code",
   "execution_count": 3,
   "metadata": {
    "execution": {
     "iopub.execute_input": "2021-11-18T06:13:05.736654Z",
     "iopub.status.busy": "2021-11-18T06:13:05.736293Z",
     "iopub.status.idle": "2021-11-18T06:13:05.740351Z",
     "shell.execute_reply": "2021-11-18T06:13:05.739409Z",
     "shell.execute_reply.started": "2021-11-18T06:13:05.736626Z"
    }
   },
   "outputs": [],
   "source": [
    "#Changes does not effect the \"data\" dataframe\n",
    "data1=data.copy()"
   ]
  },
  {
   "cell_type": "code",
   "execution_count": 4,
   "metadata": {
    "execution": {
     "iopub.execute_input": "2021-11-18T06:13:05.741775Z",
     "iopub.status.busy": "2021-11-18T06:13:05.741484Z",
     "iopub.status.idle": "2021-11-18T06:13:05.762385Z",
     "shell.execute_reply": "2021-11-18T06:13:05.761378Z",
     "shell.execute_reply.started": "2021-11-18T06:13:05.741732Z"
    }
   },
   "outputs": [],
   "source": [
    "data1.head()"
   ]
  },
  {
   "cell_type": "code",
   "execution_count": 5,
   "metadata": {
    "execution": {
     "iopub.execute_input": "2021-11-18T06:13:05.765396Z",
     "iopub.status.busy": "2021-11-18T06:13:05.765150Z",
     "iopub.status.idle": "2021-11-18T06:13:05.769529Z",
     "shell.execute_reply": "2021-11-18T06:13:05.768487Z",
     "shell.execute_reply.started": "2021-11-18T06:13:05.765372Z"
    }
   },
   "outputs": [],
   "source": [
    "labelencoder = LabelEncoder()\n"
   ]
  },
  {
   "cell_type": "code",
   "execution_count": 6,
   "metadata": {
    "execution": {
     "iopub.execute_input": "2021-11-18T06:13:05.771841Z",
     "iopub.status.busy": "2021-11-18T06:13:05.771564Z",
     "iopub.status.idle": "2021-11-18T06:13:05.780901Z",
     "shell.execute_reply": "2021-11-18T06:13:05.780196Z",
     "shell.execute_reply.started": "2021-11-18T06:13:05.771814Z"
    }
   },
   "outputs": [],
   "source": [
    "data1.iloc[:, -1] = labelencoder.fit_transform(data1.iloc[:,-1])"
   ]
  },
  {
   "cell_type": "code",
   "execution_count": 7,
   "metadata": {
    "execution": {
     "iopub.execute_input": "2021-11-18T06:13:05.783170Z",
     "iopub.status.busy": "2021-11-18T06:13:05.782779Z",
     "iopub.status.idle": "2021-11-18T06:13:05.798708Z",
     "shell.execute_reply": "2021-11-18T06:13:05.798065Z",
     "shell.execute_reply.started": "2021-11-18T06:13:05.783130Z"
    }
   },
   "outputs": [],
   "source": [
    "data1.head()"
   ]
  },
  {
   "cell_type": "code",
   "execution_count": 8,
   "metadata": {
    "execution": {
     "iopub.execute_input": "2021-11-18T06:13:05.800074Z",
     "iopub.status.busy": "2021-11-18T06:13:05.799654Z",
     "iopub.status.idle": "2021-11-18T06:13:05.815632Z",
     "shell.execute_reply": "2021-11-18T06:13:05.814885Z",
     "shell.execute_reply.started": "2021-11-18T06:13:05.800038Z"
    }
   },
   "outputs": [],
   "source": [
    "data1.tail()"
   ]
  },
  {
   "cell_type": "markdown",
   "metadata": {},
   "source": [
    "### One Hot Encoder"
   ]
  },
  {
   "cell_type": "markdown",
   "metadata": {},
   "source": [
    "#### Using sklearn"
   ]
  },
  {
   "cell_type": "code",
   "execution_count": 9,
   "metadata": {
    "execution": {
     "iopub.execute_input": "2021-11-18T06:13:05.816877Z",
     "iopub.status.busy": "2021-11-18T06:13:05.816591Z",
     "iopub.status.idle": "2021-11-18T06:13:05.821489Z",
     "shell.execute_reply": "2021-11-18T06:13:05.820871Z",
     "shell.execute_reply.started": "2021-11-18T06:13:05.816849Z"
    }
   },
   "outputs": [],
   "source": [
    "from sklearn.preprocessing import OneHotEncoder"
   ]
  },
  {
   "cell_type": "code",
   "execution_count": 10,
   "metadata": {
    "execution": {
     "iopub.execute_input": "2021-11-18T06:13:05.823163Z",
     "iopub.status.busy": "2021-11-18T06:13:05.822606Z",
     "iopub.status.idle": "2021-11-18T06:13:05.829947Z",
     "shell.execute_reply": "2021-11-18T06:13:05.829330Z",
     "shell.execute_reply.started": "2021-11-18T06:13:05.823122Z"
    }
   },
   "outputs": [],
   "source": [
    "data2=data.copy()"
   ]
  },
  {
   "cell_type": "code",
   "execution_count": 11,
   "metadata": {
    "execution": {
     "iopub.execute_input": "2021-11-18T06:13:05.831343Z",
     "iopub.status.busy": "2021-11-18T06:13:05.830929Z",
     "iopub.status.idle": "2021-11-18T06:13:05.840998Z",
     "shell.execute_reply": "2021-11-18T06:13:05.840016Z",
     "shell.execute_reply.started": "2021-11-18T06:13:05.831314Z"
    }
   },
   "outputs": [],
   "source": [
    "data2=data2.reset_index().drop(['index'],axis=1)"
   ]
  },
  {
   "cell_type": "code",
   "execution_count": 12,
   "metadata": {
    "execution": {
     "iopub.execute_input": "2021-11-18T06:13:05.842630Z",
     "iopub.status.busy": "2021-11-18T06:13:05.842338Z",
     "iopub.status.idle": "2021-11-18T06:13:05.849416Z",
     "shell.execute_reply": "2021-11-18T06:13:05.848642Z",
     "shell.execute_reply.started": "2021-11-18T06:13:05.842603Z"
    }
   },
   "outputs": [],
   "source": [
    "# creating instance of one-hot-encoder\n",
    "enc = OneHotEncoder(handle_unknown='ignore')"
   ]
  },
  {
   "cell_type": "code",
   "execution_count": 13,
   "metadata": {
    "execution": {
     "iopub.execute_input": "2021-11-18T06:13:05.850906Z",
     "iopub.status.busy": "2021-11-18T06:13:05.850501Z",
     "iopub.status.idle": "2021-11-18T06:13:05.861008Z",
     "shell.execute_reply": "2021-11-18T06:13:05.860260Z",
     "shell.execute_reply.started": "2021-11-18T06:13:05.850869Z"
    }
   },
   "outputs": [],
   "source": [
    "# passing bridge-types-cat column (label encoded values of bridge_types)\n",
    "enc_df = pd.DataFrame(enc.fit_transform(data2[['Species']]).toarray())\n"
   ]
  },
  {
   "cell_type": "code",
   "execution_count": 14,
   "metadata": {
    "execution": {
     "iopub.execute_input": "2021-11-18T06:13:05.862731Z",
     "iopub.status.busy": "2021-11-18T06:13:05.862341Z",
     "iopub.status.idle": "2021-11-18T06:13:05.887742Z",
     "shell.execute_reply": "2021-11-18T06:13:05.887072Z",
     "shell.execute_reply.started": "2021-11-18T06:13:05.862692Z"
    }
   },
   "outputs": [],
   "source": [
    "# merge with main df bridge_df on key values\n",
    "data_final = data2.join(enc_df)\n",
    "data_final"
   ]
  },
  {
   "cell_type": "markdown",
   "metadata": {},
   "source": [
    "#### Using Pandas"
   ]
  },
  {
   "cell_type": "code",
   "execution_count": 15,
   "metadata": {
    "execution": {
     "iopub.execute_input": "2021-11-18T06:13:05.888976Z",
     "iopub.status.busy": "2021-11-18T06:13:05.888605Z",
     "iopub.status.idle": "2021-11-18T06:13:05.891981Z",
     "shell.execute_reply": "2021-11-18T06:13:05.891258Z",
     "shell.execute_reply.started": "2021-11-18T06:13:05.888949Z"
    }
   },
   "outputs": [],
   "source": [
    "import pandas as pd"
   ]
  },
  {
   "cell_type": "code",
   "execution_count": 16,
   "metadata": {
    "execution": {
     "iopub.execute_input": "2021-11-18T06:13:05.893227Z",
     "iopub.status.busy": "2021-11-18T06:13:05.892814Z",
     "iopub.status.idle": "2021-11-18T06:13:05.902050Z",
     "shell.execute_reply": "2021-11-18T06:13:05.901255Z",
     "shell.execute_reply.started": "2021-11-18T06:13:05.893196Z"
    }
   },
   "outputs": [],
   "source": [
    "data3=data.copy()"
   ]
  },
  {
   "cell_type": "code",
   "execution_count": 17,
   "metadata": {
    "execution": {
     "iopub.execute_input": "2021-11-18T06:13:05.903366Z",
     "iopub.status.busy": "2021-11-18T06:13:05.903090Z",
     "iopub.status.idle": "2021-11-18T06:13:05.917179Z",
     "shell.execute_reply": "2021-11-18T06:13:05.916281Z",
     "shell.execute_reply.started": "2021-11-18T06:13:05.903339Z"
    }
   },
   "outputs": [],
   "source": [
    "data_encoded=pd.get_dummies(data3)"
   ]
  },
  {
   "cell_type": "code",
   "execution_count": 18,
   "metadata": {
    "execution": {
     "iopub.execute_input": "2021-11-18T06:13:05.919007Z",
     "iopub.status.busy": "2021-11-18T06:13:05.918558Z",
     "iopub.status.idle": "2021-11-18T06:13:05.938712Z",
     "shell.execute_reply": "2021-11-18T06:13:05.937857Z",
     "shell.execute_reply.started": "2021-11-18T06:13:05.918965Z"
    }
   },
   "outputs": [],
   "source": [
    "data_encoded"
   ]
  },
  {
   "cell_type": "markdown",
   "metadata": {},
   "source": [
    "#### IsolationForest"
   ]
  },
  {
   "cell_type": "code",
   "execution_count": 19,
   "metadata": {
    "execution": {
     "iopub.execute_input": "2021-11-18T06:13:05.940709Z",
     "iopub.status.busy": "2021-11-18T06:13:05.940098Z",
     "iopub.status.idle": "2021-11-18T06:13:06.154697Z",
     "shell.execute_reply": "2021-11-18T06:13:06.153846Z",
     "shell.execute_reply.started": "2021-11-18T06:13:05.940668Z"
    }
   },
   "outputs": [],
   "source": [
    "from sklearn.ensemble import IsolationForest"
   ]
  },
  {
   "cell_type": "code",
   "execution_count": 20,
   "metadata": {
    "execution": {
     "iopub.execute_input": "2021-11-18T06:13:06.156021Z",
     "iopub.status.busy": "2021-11-18T06:13:06.155735Z",
     "iopub.status.idle": "2021-11-18T06:13:06.169134Z",
     "shell.execute_reply": "2021-11-18T06:13:06.168260Z",
     "shell.execute_reply.started": "2021-11-18T06:13:06.155993Z"
    }
   },
   "outputs": [],
   "source": [
    "data =pd.read_csv(\"../input/eda123/iris (1).csv\",index_col=0)\n",
    "data_encoded=pd.get_dummies(data)"
   ]
  },
  {
   "cell_type": "code",
   "execution_count": 21,
   "metadata": {
    "execution": {
     "iopub.execute_input": "2021-11-18T06:13:06.170716Z",
     "iopub.status.busy": "2021-11-18T06:13:06.170454Z",
     "iopub.status.idle": "2021-11-18T06:13:06.381515Z",
     "shell.execute_reply": "2021-11-18T06:13:06.380323Z",
     "shell.execute_reply.started": "2021-11-18T06:13:06.170689Z"
    }
   },
   "outputs": [],
   "source": [
    "# training the model\n",
    "clf = IsolationForest(random_state=10,contamination=.01)\n",
    "clf.fit(data_encoded)"
   ]
  },
  {
   "cell_type": "code",
   "execution_count": 22,
   "metadata": {
    "execution": {
     "iopub.execute_input": "2021-11-18T06:13:06.383372Z",
     "iopub.status.busy": "2021-11-18T06:13:06.383002Z",
     "iopub.status.idle": "2021-11-18T06:13:06.440548Z",
     "shell.execute_reply": "2021-11-18T06:13:06.439700Z",
     "shell.execute_reply.started": "2021-11-18T06:13:06.383333Z"
    }
   },
   "outputs": [],
   "source": [
    "# predictions\n",
    "y_pred_outliers = clf.predict(data_encoded)"
   ]
  },
  {
   "cell_type": "code",
   "execution_count": 23,
   "metadata": {
    "execution": {
     "iopub.execute_input": "2021-11-18T06:13:06.442417Z",
     "iopub.status.busy": "2021-11-18T06:13:06.441971Z",
     "iopub.status.idle": "2021-11-18T06:13:06.448563Z",
     "shell.execute_reply": "2021-11-18T06:13:06.447844Z",
     "shell.execute_reply.started": "2021-11-18T06:13:06.442373Z"
    }
   },
   "outputs": [],
   "source": [
    "#-1 for outliers and 1 for inliers.\n",
    "y_pred_outliers"
   ]
  },
  {
   "cell_type": "code",
   "execution_count": 24,
   "metadata": {
    "execution": {
     "iopub.execute_input": "2021-11-18T06:13:06.449868Z",
     "iopub.status.busy": "2021-11-18T06:13:06.449541Z",
     "iopub.status.idle": "2021-11-18T06:13:06.462032Z",
     "shell.execute_reply": "2021-11-18T06:13:06.461189Z",
     "shell.execute_reply.started": "2021-11-18T06:13:06.449839Z"
    }
   },
   "outputs": [],
   "source": [
    "## Let us add a new data point which is outlier\n",
    "data_encoded.loc[150]=[20,40,30,50,1,0,0]"
   ]
  },
  {
   "cell_type": "markdown",
   "metadata": {},
   "source": []
  },
  {
   "cell_type": "code",
   "execution_count": 25,
   "metadata": {
    "execution": {
     "iopub.execute_input": "2021-11-18T06:13:06.464206Z",
     "iopub.status.busy": "2021-11-18T06:13:06.463650Z",
     "iopub.status.idle": "2021-11-18T06:13:06.718507Z",
     "shell.execute_reply": "2021-11-18T06:13:06.717413Z",
     "shell.execute_reply.started": "2021-11-18T06:13:06.464166Z"
    }
   },
   "outputs": [],
   "source": [
    "# training the model\n",
    "clf = IsolationForest(random_state=10,contamination=.01)\n",
    "clf.fit(data_encoded)\n",
    "# predictions\n",
    "y_pred_outliers = clf.predict(data_encoded)\n",
    "y_pred_outliers"
   ]
  },
  {
   "cell_type": "code",
   "execution_count": 26,
   "metadata": {
    "execution": {
     "iopub.execute_input": "2021-11-18T06:13:06.720707Z",
     "iopub.status.busy": "2021-11-18T06:13:06.720445Z",
     "iopub.status.idle": "2021-11-18T06:13:06.780183Z",
     "shell.execute_reply": "2021-11-18T06:13:06.779265Z",
     "shell.execute_reply.started": "2021-11-18T06:13:06.720681Z"
    }
   },
   "outputs": [],
   "source": [
    "data_encoded['scores']=clf.decision_function(data_encoded)"
   ]
  },
  {
   "cell_type": "code",
   "execution_count": 27,
   "metadata": {
    "execution": {
     "iopub.execute_input": "2021-11-18T06:13:06.781802Z",
     "iopub.status.busy": "2021-11-18T06:13:06.781535Z",
     "iopub.status.idle": "2021-11-18T06:13:06.840727Z",
     "shell.execute_reply": "2021-11-18T06:13:06.839854Z",
     "shell.execute_reply.started": "2021-11-18T06:13:06.781775Z"
    }
   },
   "outputs": [],
   "source": [
    "data_encoded['anomaly']=clf.predict(data_encoded.iloc[:,0:7])"
   ]
  },
  {
   "cell_type": "code",
   "execution_count": 28,
   "metadata": {
    "execution": {
     "iopub.execute_input": "2021-11-18T06:13:06.842325Z",
     "iopub.status.busy": "2021-11-18T06:13:06.842049Z",
     "iopub.status.idle": "2021-11-18T06:13:06.863049Z",
     "shell.execute_reply": "2021-11-18T06:13:06.862139Z",
     "shell.execute_reply.started": "2021-11-18T06:13:06.842298Z"
    }
   },
   "outputs": [],
   "source": [
    "data_encoded"
   ]
  },
  {
   "cell_type": "code",
   "execution_count": 29,
   "metadata": {
    "execution": {
     "iopub.execute_input": "2021-11-18T06:13:06.864281Z",
     "iopub.status.busy": "2021-11-18T06:13:06.864022Z",
     "iopub.status.idle": "2021-11-18T06:13:06.896620Z",
     "shell.execute_reply": "2021-11-18T06:13:06.895567Z",
     "shell.execute_reply.started": "2021-11-18T06:13:06.864256Z"
    }
   },
   "outputs": [],
   "source": [
    "#Print the outlier data points\n",
    "data_encoded[data_encoded['anomaly']==-1]"
   ]
  },
  {
   "cell_type": "markdown",
   "metadata": {},
   "source": [
    "### PPS score"
   ]
  },
  {
   "cell_type": "code",
   "execution_count": 1,
   "metadata": {
    "execution": {
     "iopub.execute_input": "2021-11-18T06:13:06.899222Z",
     "iopub.status.busy": "2021-11-18T06:13:06.898802Z",
     "iopub.status.idle": "2021-11-18T06:13:16.742617Z",
     "shell.execute_reply": "2021-11-18T06:13:16.741551Z",
     "shell.execute_reply.started": "2021-11-18T06:13:06.899179Z"
    }
   },
   "outputs": [
    {
     "name": "stdout",
     "output_type": "stream",
     "text": [
      "Requirement already satisfied: ppscore in c:\\users\\rushikesh\\anaconda3\\lib\\site-packages (1.2.0)\n",
      "Requirement already satisfied: pandas<2.0.0,>=1.0.0 in c:\\users\\rushikesh\\anaconda3\\lib\\site-packages (from ppscore) (1.3.5)\n",
      "Requirement already satisfied: scikit-learn<1.0.0,>=0.20.2 in c:\\users\\rushikesh\\anaconda3\\lib\\site-packages (from ppscore) (0.24.2)\n",
      "Requirement already satisfied: pytz>=2017.3 in c:\\users\\rushikesh\\anaconda3\\lib\\site-packages (from pandas<2.0.0,>=1.0.0->ppscore) (2021.3)\n",
      "Requirement already satisfied: numpy>=1.17.3 in c:\\users\\rushikesh\\anaconda3\\lib\\site-packages (from pandas<2.0.0,>=1.0.0->ppscore) (1.22.0)\n",
      "Requirement already satisfied: python-dateutil>=2.7.3 in c:\\users\\rushikesh\\anaconda3\\lib\\site-packages (from pandas<2.0.0,>=1.0.0->ppscore) (2.8.2)\n",
      "Requirement already satisfied: six>=1.5 in c:\\users\\rushikesh\\anaconda3\\lib\\site-packages (from python-dateutil>=2.7.3->pandas<2.0.0,>=1.0.0->ppscore) (1.16.0)\n",
      "Requirement already satisfied: threadpoolctl>=2.0.0 in c:\\users\\rushikesh\\anaconda3\\lib\\site-packages (from scikit-learn<1.0.0,>=0.20.2->ppscore) (3.0.0)\n",
      "Requirement already satisfied: joblib>=0.11 in c:\\users\\rushikesh\\anaconda3\\lib\\site-packages (from scikit-learn<1.0.0,>=0.20.2->ppscore) (1.1.0)\n",
      "Requirement already satisfied: scipy>=0.19.1 in c:\\users\\rushikesh\\anaconda3\\lib\\site-packages (from scikit-learn<1.0.0,>=0.20.2->ppscore) (1.7.3)\n"
     ]
    }
   ],
   "source": [
    "#install the package\n",
    "!pip install ppscore"
   ]
  },
  {
   "cell_type": "code",
   "execution_count": 31,
   "metadata": {
    "execution": {
     "iopub.execute_input": "2021-11-18T06:13:16.744685Z",
     "iopub.status.busy": "2021-11-18T06:13:16.744276Z",
     "iopub.status.idle": "2021-11-18T06:13:16.897678Z",
     "shell.execute_reply": "2021-11-18T06:13:16.896685Z",
     "shell.execute_reply.started": "2021-11-18T06:13:16.744645Z"
    }
   },
   "outputs": [],
   "source": [
    "import ppscore as pps\n",
    "#pps.score(df, \"feature_column\", \"target_column\")  syntax\n",
    "pps.score(data, \"Sepal.Length\", \"Petal.Length\")"
   ]
  },
  {
   "cell_type": "markdown",
   "metadata": {},
   "source": []
  },
  {
   "cell_type": "code",
   "execution_count": 32,
   "metadata": {
    "execution": {
     "iopub.execute_input": "2021-11-18T06:13:16.899373Z",
     "iopub.status.busy": "2021-11-18T06:13:16.899075Z",
     "iopub.status.idle": "2021-11-18T06:13:17.196631Z",
     "shell.execute_reply": "2021-11-18T06:13:17.195965Z",
     "shell.execute_reply.started": "2021-11-18T06:13:16.899343Z"
    }
   },
   "outputs": [],
   "source": [
    "#calculate the whole PPS matrix\n",
    "pps.matrix(data)"
   ]
  },
  {
   "cell_type": "code",
   "execution_count": null,
   "metadata": {},
   "outputs": [],
   "source": []
  }
 ],
 "metadata": {
  "kernelspec": {
   "display_name": "Python 3 (ipykernel)",
   "language": "python",
   "name": "python3"
  },
  "language_info": {
   "codemirror_mode": {
    "name": "ipython",
    "version": 3
   },
   "file_extension": ".py",
   "mimetype": "text/x-python",
   "name": "python",
   "nbconvert_exporter": "python",
   "pygments_lexer": "ipython3",
   "version": "3.9.7"
  }
 },
 "nbformat": 4,
 "nbformat_minor": 4
}
