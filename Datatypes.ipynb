{
 "cells": [
  {
   "cell_type": "markdown",
   "id": "0813d128",
   "metadata": {},
   "source": [
    "# Notebook Navigation\n",
    "\n",
    "+ esc-b - Add a cell below current cell\n",
    "+ esc-a - Add a cell above the current cell\n",
    "+ esc-x - Delete the current cell\n",
    "+ esc-m - Convert current cell to Markdown\n",
    "+ esc-y - Convert to code cell\n",
    "+ shift-enter - Exceucte current cell\n",
    "+ ctrl-z - Undo typing"
   ]
  },
  {
   "cell_type": "markdown",
   "id": "294c3e55",
   "metadata": {},
   "source": [
    "# Data Types"
   ]
  },
  {
   "cell_type": "markdown",
   "id": "6ffcfb78",
   "metadata": {},
   "source": [
    "### Integer"
   ]
  },
  {
   "cell_type": "code",
   "execution_count": 4,
   "id": "06c54c0d",
   "metadata": {},
   "outputs": [],
   "source": [
    "x=10"
   ]
  },
  {
   "cell_type": "code",
   "execution_count": 5,
   "id": "0cc8d0ec",
   "metadata": {},
   "outputs": [
    {
     "data": {
      "text/plain": [
       "int"
      ]
     },
     "execution_count": 5,
     "metadata": {},
     "output_type": "execute_result"
    }
   ],
   "source": [
    "type(x)"
   ]
  },
  {
   "cell_type": "code",
   "execution_count": 10,
   "id": "5e25c10f",
   "metadata": {},
   "outputs": [
    {
     "data": {
      "text/plain": [
       "4311140992"
      ]
     },
     "execution_count": 10,
     "metadata": {},
     "output_type": "execute_result"
    }
   ],
   "source": [
    "id(x)"
   ]
  },
  {
   "cell_type": "code",
   "execution_count": 6,
   "id": "61cb6714",
   "metadata": {},
   "outputs": [],
   "source": [
    "y = 9.0"
   ]
  },
  {
   "cell_type": "markdown",
   "id": "6ff5bf63",
   "metadata": {},
   "source": [
    "### Float"
   ]
  },
  {
   "cell_type": "code",
   "execution_count": 7,
   "id": "ba08efb9",
   "metadata": {},
   "outputs": [
    {
     "data": {
      "text/plain": [
       "float"
      ]
     },
     "execution_count": 7,
     "metadata": {},
     "output_type": "execute_result"
    }
   ],
   "source": [
    "type(y)"
   ]
  },
  {
   "cell_type": "code",
   "execution_count": 11,
   "id": "d8a91228",
   "metadata": {},
   "outputs": [
    {
     "data": {
      "text/plain": [
       "4311140896"
      ]
     },
     "execution_count": 11,
     "metadata": {},
     "output_type": "execute_result"
    }
   ],
   "source": [
    "id(y)"
   ]
  },
  {
   "cell_type": "code",
   "execution_count": 13,
   "id": "5e6c997f",
   "metadata": {},
   "outputs": [
    {
     "data": {
      "text/plain": [
       "'0x100f6ca80'"
      ]
     },
     "execution_count": 13,
     "metadata": {},
     "output_type": "execute_result"
    }
   ],
   "source": [
    "hex(id(x))"
   ]
  },
  {
   "cell_type": "code",
   "execution_count": 8,
   "id": "30e83c27",
   "metadata": {},
   "outputs": [],
   "source": [
    "y=7"
   ]
  },
  {
   "cell_type": "code",
   "execution_count": 9,
   "id": "09b82189",
   "metadata": {},
   "outputs": [
    {
     "data": {
      "text/plain": [
       "int"
      ]
     },
     "execution_count": 9,
     "metadata": {},
     "output_type": "execute_result"
    }
   ],
   "source": [
    "type(y)"
   ]
  },
  {
   "cell_type": "markdown",
   "id": "6b939322",
   "metadata": {},
   "source": [
    "### Boolean"
   ]
  },
  {
   "cell_type": "code",
   "execution_count": 14,
   "id": "1dbb22c8",
   "metadata": {},
   "outputs": [],
   "source": [
    "x= True"
   ]
  },
  {
   "cell_type": "code",
   "execution_count": 15,
   "id": "113ec9a4",
   "metadata": {},
   "outputs": [],
   "source": [
    "y=False"
   ]
  },
  {
   "cell_type": "code",
   "execution_count": 16,
   "id": "65055a9e",
   "metadata": {},
   "outputs": [
    {
     "data": {
      "text/plain": [
       "bool"
      ]
     },
     "execution_count": 16,
     "metadata": {},
     "output_type": "execute_result"
    }
   ],
   "source": [
    "type(x)"
   ]
  },
  {
   "cell_type": "markdown",
   "id": "d409ce9f",
   "metadata": {},
   "source": [
    "### String"
   ]
  },
  {
   "cell_type": "code",
   "execution_count": 17,
   "id": "1a4dc55b",
   "metadata": {},
   "outputs": [],
   "source": [
    "my_name = 'Ronald'"
   ]
  },
  {
   "cell_type": "code",
   "execution_count": 18,
   "id": "8f218d3f",
   "metadata": {},
   "outputs": [
    {
     "data": {
      "text/plain": [
       "str"
      ]
     },
     "execution_count": 18,
     "metadata": {},
     "output_type": "execute_result"
    }
   ],
   "source": [
    "type(my_name)"
   ]
  },
  {
   "cell_type": "code",
   "execution_count": 19,
   "id": "e200140c",
   "metadata": {},
   "outputs": [],
   "source": [
    "s1 = \"Lara\""
   ]
  },
  {
   "cell_type": "code",
   "execution_count": 20,
   "id": "fb2bf25c",
   "metadata": {},
   "outputs": [],
   "source": [
    "s2='''George'''"
   ]
  },
  {
   "cell_type": "markdown",
   "id": "b2e12800",
   "metadata": {},
   "source": [
    "## Arithmetic Operations"
   ]
  },
  {
   "cell_type": "code",
   "execution_count": 1,
   "id": "fc796b42",
   "metadata": {},
   "outputs": [],
   "source": [
    "x = 10\n",
    "y = 30"
   ]
  },
  {
   "cell_type": "code",
   "execution_count": 2,
   "id": "d5303a43",
   "metadata": {},
   "outputs": [
    {
     "data": {
      "text/plain": [
       "40"
      ]
     },
     "execution_count": 2,
     "metadata": {},
     "output_type": "execute_result"
    }
   ],
   "source": [
    "# Addition\n",
    "x + y"
   ]
  },
  {
   "cell_type": "code",
   "execution_count": 3,
   "id": "e4987fac",
   "metadata": {},
   "outputs": [
    {
     "data": {
      "text/plain": [
       "20"
      ]
     },
     "execution_count": 3,
     "metadata": {},
     "output_type": "execute_result"
    }
   ],
   "source": [
    "# Subtraction\n",
    "y - x"
   ]
  },
  {
   "cell_type": "code",
   "execution_count": 4,
   "id": "f6c5a178",
   "metadata": {},
   "outputs": [
    {
     "data": {
      "text/plain": [
       "300"
      ]
     },
     "execution_count": 4,
     "metadata": {},
     "output_type": "execute_result"
    }
   ],
   "source": [
    "# Multiplication\n",
    "x * y"
   ]
  },
  {
   "cell_type": "code",
   "execution_count": 5,
   "id": "80a4cf2a",
   "metadata": {},
   "outputs": [
    {
     "data": {
      "text/plain": [
       "233910"
      ]
     },
     "execution_count": 5,
     "metadata": {},
     "output_type": "execute_result"
    }
   ],
   "source": [
    "345 * 678"
   ]
  },
  {
   "cell_type": "code",
   "execution_count": 6,
   "id": "6f4f48d0",
   "metadata": {},
   "outputs": [],
   "source": [
    "# Divisions\n",
    "x = 13\n",
    "y = 4"
   ]
  },
  {
   "cell_type": "code",
   "execution_count": 7,
   "id": "fef3e4a5",
   "metadata": {},
   "outputs": [
    {
     "data": {
      "text/plain": [
       "3.25"
      ]
     },
     "execution_count": 7,
     "metadata": {},
     "output_type": "execute_result"
    }
   ],
   "source": [
    "x/y"
   ]
  },
  {
   "cell_type": "code",
   "execution_count": 8,
   "id": "346e76cc",
   "metadata": {},
   "outputs": [
    {
     "data": {
      "text/plain": [
       "1"
      ]
     },
     "execution_count": 8,
     "metadata": {},
     "output_type": "execute_result"
    }
   ],
   "source": [
    "# Modulo Division\n",
    "x % y"
   ]
  },
  {
   "cell_type": "code",
   "execution_count": 9,
   "id": "7f18c411",
   "metadata": {},
   "outputs": [
    {
     "data": {
      "text/plain": [
       "3"
      ]
     },
     "execution_count": 9,
     "metadata": {},
     "output_type": "execute_result"
    }
   ],
   "source": [
    "# Floor Division\n",
    "x // y"
   ]
  },
  {
   "cell_type": "code",
   "execution_count": 10,
   "id": "0d47ad1a",
   "metadata": {},
   "outputs": [
    {
     "data": {
      "text/plain": [
       "-4"
      ]
     },
     "execution_count": 10,
     "metadata": {},
     "output_type": "execute_result"
    }
   ],
   "source": [
    "x = -13\n",
    "y = 4\n",
    "\n",
    "x // y"
   ]
  },
  {
   "cell_type": "code",
   "execution_count": 11,
   "id": "b56667aa",
   "metadata": {},
   "outputs": [
    {
     "data": {
      "text/plain": [
       "3"
      ]
     },
     "execution_count": 11,
     "metadata": {},
     "output_type": "execute_result"
    }
   ],
   "source": [
    "x = -13\n",
    "y = -4\n",
    "x // y"
   ]
  },
  {
   "cell_type": "code",
   "execution_count": null,
   "id": "1cc2c2e0",
   "metadata": {},
   "outputs": [],
   "source": [
    "# Boolean Operation"
   ]
  },
  {
   "cell_type": "code",
   "execution_count": 12,
   "id": "d3890286",
   "metadata": {},
   "outputs": [],
   "source": [
    "x = True\n",
    "y = False"
   ]
  },
  {
   "cell_type": "code",
   "execution_count": 13,
   "id": "c38c1660",
   "metadata": {},
   "outputs": [
    {
     "data": {
      "text/plain": [
       "True"
      ]
     },
     "execution_count": 13,
     "metadata": {},
     "output_type": "execute_result"
    }
   ],
   "source": [
    "x or y"
   ]
  },
  {
   "cell_type": "code",
   "execution_count": 15,
   "id": "1a1f5097",
   "metadata": {},
   "outputs": [
    {
     "data": {
      "text/plain": [
       "False"
      ]
     },
     "execution_count": 15,
     "metadata": {},
     "output_type": "execute_result"
    }
   ],
   "source": [
    "x = False\n",
    "y = False\n",
    "x or y"
   ]
  },
  {
   "cell_type": "code",
   "execution_count": 16,
   "id": "9fc6e150",
   "metadata": {},
   "outputs": [],
   "source": [
    "## AND operation"
   ]
  },
  {
   "cell_type": "code",
   "execution_count": 17,
   "id": "435927a3",
   "metadata": {},
   "outputs": [],
   "source": [
    "x = True\n",
    "y = False"
   ]
  },
  {
   "cell_type": "code",
   "execution_count": 18,
   "id": "25232ebe",
   "metadata": {},
   "outputs": [
    {
     "data": {
      "text/plain": [
       "False"
      ]
     },
     "execution_count": 18,
     "metadata": {},
     "output_type": "execute_result"
    }
   ],
   "source": [
    "x and y"
   ]
  },
  {
   "cell_type": "code",
   "execution_count": 19,
   "id": "e7aac02d",
   "metadata": {},
   "outputs": [],
   "source": [
    "x = True\n",
    "y = True"
   ]
  },
  {
   "cell_type": "code",
   "execution_count": 20,
   "id": "eebd651c",
   "metadata": {},
   "outputs": [
    {
     "data": {
      "text/plain": [
       "True"
      ]
     },
     "execution_count": 20,
     "metadata": {},
     "output_type": "execute_result"
    }
   ],
   "source": [
    "x and y"
   ]
  },
  {
   "cell_type": "code",
   "execution_count": 21,
   "id": "ebda0080",
   "metadata": {},
   "outputs": [
    {
     "data": {
      "text/plain": [
       "False"
      ]
     },
     "execution_count": 21,
     "metadata": {},
     "output_type": "execute_result"
    }
   ],
   "source": [
    "not x"
   ]
  },
  {
   "cell_type": "code",
   "execution_count": 22,
   "id": "6364d715",
   "metadata": {},
   "outputs": [
    {
     "data": {
      "text/plain": [
       "True"
      ]
     },
     "execution_count": 22,
     "metadata": {},
     "output_type": "execute_result"
    }
   ],
   "source": [
    "x = False\n",
    "not x"
   ]
  },
  {
   "cell_type": "markdown",
   "id": "8f4296d6",
   "metadata": {},
   "source": [
    "# Immutability"
   ]
  },
  {
   "cell_type": "code",
   "execution_count": 23,
   "id": "0864b0bf",
   "metadata": {},
   "outputs": [
    {
     "data": {
      "text/plain": [
       "4375140992"
      ]
     },
     "execution_count": 23,
     "metadata": {},
     "output_type": "execute_result"
    }
   ],
   "source": [
    "x = 10\n",
    "id(x)"
   ]
  },
  {
   "cell_type": "code",
   "execution_count": 24,
   "id": "a912da6d",
   "metadata": {},
   "outputs": [
    {
     "data": {
      "text/plain": [
       "4375141312"
      ]
     },
     "execution_count": 24,
     "metadata": {},
     "output_type": "execute_result"
    }
   ],
   "source": [
    "x = 20\n",
    "id(x)"
   ]
  },
  {
   "cell_type": "code",
   "execution_count": 25,
   "id": "94b485c8",
   "metadata": {},
   "outputs": [
    {
     "data": {
      "text/plain": [
       "10"
      ]
     },
     "execution_count": 25,
     "metadata": {},
     "output_type": "execute_result"
    }
   ],
   "source": [
    "10 or 9"
   ]
  },
  {
   "cell_type": "code",
   "execution_count": 26,
   "id": "46381997",
   "metadata": {},
   "outputs": [
    {
     "data": {
      "text/plain": [
       "10"
      ]
     },
     "execution_count": 26,
     "metadata": {},
     "output_type": "execute_result"
    }
   ],
   "source": [
    "10 or 11"
   ]
  },
  {
   "cell_type": "code",
   "execution_count": 27,
   "id": "f1e3f1ed",
   "metadata": {},
   "outputs": [
    {
     "data": {
      "text/plain": [
       "11"
      ]
     },
     "execution_count": 27,
     "metadata": {},
     "output_type": "execute_result"
    }
   ],
   "source": [
    "0 or 11"
   ]
  },
  {
   "cell_type": "code",
   "execution_count": null,
   "id": "23d577d4",
   "metadata": {},
   "outputs": [],
   "source": []
  }
 ],
 "metadata": {
  "kernelspec": {
   "display_name": "Python 3",
   "language": "python",
   "name": "python3"
  },
  "language_info": {
   "codemirror_mode": {
    "name": "ipython",
    "version": 3
   },
   "file_extension": ".py",
   "mimetype": "text/x-python",
   "name": "python",
   "nbconvert_exporter": "python",
   "pygments_lexer": "ipython3",
   "version": "3.8.8"
  }
 },
 "nbformat": 4,
 "nbformat_minor": 5
}
