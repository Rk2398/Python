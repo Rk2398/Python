{
 "cells": [
  {
   "cell_type": "markdown",
   "metadata": {},
   "source": [
    "# Model Validation Methods"
   ]
  },
  {
   "cell_type": "markdown",
   "metadata": {},
   "source": [
    "#### 1.Evaluate using a train and a test set"
   ]
  },
  {
   "cell_type": "code",
   "execution_count": 1,
   "metadata": {
    "execution": {
     "iopub.execute_input": "2021-11-22T06:16:13.006688Z",
     "iopub.status.busy": "2021-11-22T06:16:13.006090Z",
     "iopub.status.idle": "2021-11-22T06:16:14.298070Z",
     "shell.execute_reply": "2021-11-22T06:16:14.295506Z",
     "shell.execute_reply.started": "2021-11-22T06:16:13.006629Z"
    }
   },
   "outputs": [],
   "source": [
    "# Evaluate using a train and a test set\n",
    "from pandas import read_csv\n",
    "from sklearn.model_selection import train_test_split\n",
    "from sklearn.linear_model import LogisticRegression\n",
    "filename = '../input/prima123/pima-indians-diabetes.data.csv'\n",
    "names = ['preg', 'plas', 'pres', 'skin', 'test', 'mass', 'pedi', 'age', 'class']\n",
    "dataframe = read_csv(filename, names=names)\n",
    "array = dataframe.values\n",
    "X = array[:,0:8]\n",
    "Y = array[:,8]\n",
    "test_size = 0.33\n",
    "seed = 7\n",
    "X_train, X_test, Y_train, Y_test = train_test_split(X, Y, test_size=test_size,\n",
    "random_state=seed)\n",
    "model = LogisticRegression()\n",
    "model.fit(X_train, Y_train)\n",
    "result = model.score(X_test, Y_test)\n"
   ]
  },
  {
   "cell_type": "code",
   "execution_count": 2,
   "metadata": {
    "execution": {
     "iopub.execute_input": "2021-11-22T06:16:14.300101Z",
     "iopub.status.busy": "2021-11-22T06:16:14.299805Z",
     "iopub.status.idle": "2021-11-22T06:16:14.311969Z",
     "shell.execute_reply": "2021-11-22T06:16:14.310961Z",
     "shell.execute_reply.started": "2021-11-22T06:16:14.300073Z"
    }
   },
   "outputs": [],
   "source": [
    "result*100.0"
   ]
  },
  {
   "cell_type": "markdown",
   "metadata": {},
   "source": [
    "#### 2.Evaluate using Cross Validation"
   ]
  },
  {
   "cell_type": "code",
   "execution_count": 3,
   "metadata": {
    "execution": {
     "iopub.execute_input": "2021-11-22T06:16:14.314071Z",
     "iopub.status.busy": "2021-11-22T06:16:14.313246Z",
     "iopub.status.idle": "2021-11-22T06:16:14.786857Z",
     "shell.execute_reply": "2021-11-22T06:16:14.785794Z",
     "shell.execute_reply.started": "2021-11-22T06:16:14.314037Z"
    }
   },
   "outputs": [],
   "source": [
    "# Evaluate using Cross Validation\n",
    "from pandas import read_csv\n",
    "from sklearn.model_selection import KFold\n",
    "from sklearn.model_selection import cross_val_score\n",
    "from sklearn.linear_model import LogisticRegression\n",
    "filename = '../input/prima123/pima-indians-diabetes.data.csv'\n",
    "names = ['preg', 'plas', 'pres', 'skin', 'test', 'mass', 'pedi', 'age', 'class']\n",
    "dataframe = read_csv(filename, names=names)\n",
    "array = dataframe.values\n",
    "X = array[:,0:8]\n",
    "Y = array[:,8]\n",
    "num_folds = 10\n",
    "seed = 7\n",
    "kfold = KFold(n_splits=num_folds, random_state=seed)\n",
    "model = LogisticRegression(max_iter=400)\n",
    "results = cross_val_score(model, X, Y, cv=kfold)\n"
   ]
  },
  {
   "cell_type": "code",
   "execution_count": 4,
   "metadata": {
    "execution": {
     "iopub.execute_input": "2021-11-22T06:16:14.788417Z",
     "iopub.status.busy": "2021-11-22T06:16:14.788115Z",
     "iopub.status.idle": "2021-11-22T06:16:14.795519Z",
     "shell.execute_reply": "2021-11-22T06:16:14.794294Z",
     "shell.execute_reply.started": "2021-11-22T06:16:14.788387Z"
    }
   },
   "outputs": [],
   "source": [
    "results.mean()*100.0"
   ]
  },
  {
   "cell_type": "code",
   "execution_count": 5,
   "metadata": {
    "execution": {
     "iopub.execute_input": "2021-11-22T06:16:14.799483Z",
     "iopub.status.busy": "2021-11-22T06:16:14.799028Z",
     "iopub.status.idle": "2021-11-22T06:16:14.809007Z",
     "shell.execute_reply": "2021-11-22T06:16:14.808008Z",
     "shell.execute_reply.started": "2021-11-22T06:16:14.799433Z"
    }
   },
   "outputs": [],
   "source": [
    "results.std()*100.0"
   ]
  },
  {
   "cell_type": "markdown",
   "metadata": {},
   "source": [
    "#### 3.Evaluate using Leave One Out Cross Validation"
   ]
  },
  {
   "cell_type": "code",
   "execution_count": 6,
   "metadata": {
    "execution": {
     "iopub.execute_input": "2021-11-22T06:16:14.810896Z",
     "iopub.status.busy": "2021-11-22T06:16:14.810477Z",
     "iopub.status.idle": "2021-11-22T06:16:51.332255Z",
     "shell.execute_reply": "2021-11-22T06:16:51.331483Z",
     "shell.execute_reply.started": "2021-11-22T06:16:14.810863Z"
    }
   },
   "outputs": [],
   "source": [
    "# Evaluate using Leave One Out Cross Validation\n",
    "from pandas import read_csv\n",
    "from sklearn.model_selection import LeaveOneOut\n",
    "from sklearn.model_selection import cross_val_score\n",
    "from sklearn.linear_model import LogisticRegression\n",
    "filename = '../input/prima123/pima-indians-diabetes.data.csv'\n",
    "names = ['preg', 'plas', 'pres', 'skin', 'test', 'mass', 'pedi', 'age', 'class']\n",
    "dataframe = read_csv(filename, names=names)\n",
    "array = dataframe.values\n",
    "X = array[:,0:8]\n",
    "Y = array[:,8]\n",
    "loocv = LeaveOneOut()\n",
    "model = LogisticRegression(max_iter=300)\n",
    "results = cross_val_score(model, X, Y, cv=loocv)\n"
   ]
  },
  {
   "cell_type": "code",
   "execution_count": 7,
   "metadata": {
    "execution": {
     "iopub.execute_input": "2021-11-22T06:16:51.334494Z",
     "iopub.status.busy": "2021-11-22T06:16:51.333813Z",
     "iopub.status.idle": "2021-11-22T06:16:51.341959Z",
     "shell.execute_reply": "2021-11-22T06:16:51.340917Z",
     "shell.execute_reply.started": "2021-11-22T06:16:51.334434Z"
    }
   },
   "outputs": [],
   "source": [
    "results.mean()*100.0"
   ]
  },
  {
   "cell_type": "code",
   "execution_count": 8,
   "metadata": {
    "execution": {
     "iopub.execute_input": "2021-11-22T06:16:51.344373Z",
     "iopub.status.busy": "2021-11-22T06:16:51.343567Z",
     "iopub.status.idle": "2021-11-22T06:16:51.353383Z",
     "shell.execute_reply": "2021-11-22T06:16:51.352590Z",
     "shell.execute_reply.started": "2021-11-22T06:16:51.344321Z"
    }
   },
   "outputs": [],
   "source": [
    "results.std()*100.0"
   ]
  },
  {
   "cell_type": "code",
   "execution_count": null,
   "metadata": {},
   "outputs": [],
   "source": []
  }
 ],
 "metadata": {
  "kernelspec": {
   "display_name": "Python 3 (ipykernel)",
   "language": "python",
   "name": "python3"
  },
  "language_info": {
   "codemirror_mode": {
    "name": "ipython",
    "version": 3
   },
   "file_extension": ".py",
   "mimetype": "text/x-python",
   "name": "python",
   "nbconvert_exporter": "python",
   "pygments_lexer": "ipython3",
   "version": "3.9.7"
  }
 },
 "nbformat": 4,
 "nbformat_minor": 4
}
