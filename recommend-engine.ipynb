{
 "cells": [
  {
   "cell_type": "code",
   "execution_count": 1,
   "metadata": {
    "execution": {
     "iopub.execute_input": "2021-11-16T06:11:50.075625Z",
     "iopub.status.busy": "2021-11-16T06:11:50.075056Z",
     "iopub.status.idle": "2021-11-16T06:11:50.080210Z",
     "shell.execute_reply": "2021-11-16T06:11:50.079465Z",
     "shell.execute_reply.started": "2021-11-16T06:11:50.075558Z"
    }
   },
   "outputs": [],
   "source": [
    "import pandas as pd\n",
    "import numpy as np"
   ]
  },
  {
   "cell_type": "code",
   "execution_count": 2,
   "metadata": {
    "execution": {
     "iopub.execute_input": "2021-11-16T06:11:50.082144Z",
     "iopub.status.busy": "2021-11-16T06:11:50.081649Z",
     "iopub.status.idle": "2021-11-16T06:11:50.118060Z",
     "shell.execute_reply": "2021-11-16T06:11:50.117251Z",
     "shell.execute_reply.started": "2021-11-16T06:11:50.082114Z"
    }
   },
   "outputs": [],
   "source": [
    "movies_df = pd.read_csv('../input/movie123/Movie (1).csv')"
   ]
  },
  {
   "cell_type": "code",
   "execution_count": 3,
   "metadata": {
    "execution": {
     "iopub.execute_input": "2021-11-16T06:11:50.120071Z",
     "iopub.status.busy": "2021-11-16T06:11:50.119546Z",
     "iopub.status.idle": "2021-11-16T06:11:50.136733Z",
     "shell.execute_reply": "2021-11-16T06:11:50.135745Z",
     "shell.execute_reply.started": "2021-11-16T06:11:50.120038Z"
    }
   },
   "outputs": [],
   "source": [
    "movies_df[0:5]"
   ]
  },
  {
   "cell_type": "code",
   "execution_count": 4,
   "metadata": {
    "execution": {
     "iopub.execute_input": "2021-11-16T06:11:50.138827Z",
     "iopub.status.busy": "2021-11-16T06:11:50.138318Z",
     "iopub.status.idle": "2021-11-16T06:11:50.149348Z",
     "shell.execute_reply": "2021-11-16T06:11:50.148584Z",
     "shell.execute_reply.started": "2021-11-16T06:11:50.138796Z"
    }
   },
   "outputs": [],
   "source": [
    "#number of unique users in the dataset\n",
    "len(movies_df.userId.unique())"
   ]
  },
  {
   "cell_type": "code",
   "execution_count": 5,
   "metadata": {
    "execution": {
     "iopub.execute_input": "2021-11-16T06:11:50.151033Z",
     "iopub.status.busy": "2021-11-16T06:11:50.150555Z",
     "iopub.status.idle": "2021-11-16T06:11:50.161629Z",
     "shell.execute_reply": "2021-11-16T06:11:50.160858Z",
     "shell.execute_reply.started": "2021-11-16T06:11:50.151003Z"
    }
   },
   "outputs": [],
   "source": [
    "len(movies_df.movie.unique())"
   ]
  },
  {
   "cell_type": "code",
   "execution_count": 6,
   "metadata": {
    "execution": {
     "iopub.execute_input": "2021-11-16T06:11:50.163780Z",
     "iopub.status.busy": "2021-11-16T06:11:50.163073Z",
     "iopub.status.idle": "2021-11-16T06:11:50.185884Z",
     "shell.execute_reply": "2021-11-16T06:11:50.185085Z",
     "shell.execute_reply.started": "2021-11-16T06:11:50.163725Z"
    }
   },
   "outputs": [],
   "source": [
    "user_movies_df = movies_df.pivot(index='userId',\n",
    "                                 columns='movie',\n",
    "                                 values='rating').reset_index(drop=True)"
   ]
  },
  {
   "cell_type": "code",
   "execution_count": 7,
   "metadata": {
    "execution": {
     "iopub.execute_input": "2021-11-16T06:11:50.189027Z",
     "iopub.status.busy": "2021-11-16T06:11:50.188627Z",
     "iopub.status.idle": "2021-11-16T06:11:50.208581Z",
     "shell.execute_reply": "2021-11-16T06:11:50.207595Z",
     "shell.execute_reply.started": "2021-11-16T06:11:50.188984Z"
    }
   },
   "outputs": [],
   "source": [
    "user_movies_df"
   ]
  },
  {
   "cell_type": "code",
   "execution_count": 8,
   "metadata": {
    "execution": {
     "iopub.execute_input": "2021-11-16T06:11:50.210610Z",
     "iopub.status.busy": "2021-11-16T06:11:50.209992Z",
     "iopub.status.idle": "2021-11-16T06:11:50.216237Z",
     "shell.execute_reply": "2021-11-16T06:11:50.215248Z",
     "shell.execute_reply.started": "2021-11-16T06:11:50.210568Z"
    }
   },
   "outputs": [],
   "source": [
    "user_movies_df.index = movies_df.userId.unique()"
   ]
  },
  {
   "cell_type": "code",
   "execution_count": 9,
   "metadata": {
    "execution": {
     "iopub.execute_input": "2021-11-16T06:11:50.218141Z",
     "iopub.status.busy": "2021-11-16T06:11:50.217595Z",
     "iopub.status.idle": "2021-11-16T06:11:50.244967Z",
     "shell.execute_reply": "2021-11-16T06:11:50.243922Z",
     "shell.execute_reply.started": "2021-11-16T06:11:50.218100Z"
    }
   },
   "outputs": [],
   "source": [
    "user_movies_df"
   ]
  },
  {
   "cell_type": "code",
   "execution_count": 10,
   "metadata": {
    "execution": {
     "iopub.execute_input": "2021-11-16T06:11:50.246424Z",
     "iopub.status.busy": "2021-11-16T06:11:50.246157Z",
     "iopub.status.idle": "2021-11-16T06:11:50.250969Z",
     "shell.execute_reply": "2021-11-16T06:11:50.250014Z",
     "shell.execute_reply.started": "2021-11-16T06:11:50.246396Z"
    }
   },
   "outputs": [],
   "source": [
    "#Impute those NaNs with 0 values\n",
    "user_movies_df.fillna(0, inplace=True)"
   ]
  },
  {
   "cell_type": "code",
   "execution_count": 11,
   "metadata": {
    "execution": {
     "iopub.execute_input": "2021-11-16T06:11:50.253513Z",
     "iopub.status.busy": "2021-11-16T06:11:50.252842Z",
     "iopub.status.idle": "2021-11-16T06:11:50.278872Z",
     "shell.execute_reply": "2021-11-16T06:11:50.277765Z",
     "shell.execute_reply.started": "2021-11-16T06:11:50.253443Z"
    }
   },
   "outputs": [],
   "source": [
    "user_movies_df"
   ]
  },
  {
   "cell_type": "code",
   "execution_count": 12,
   "metadata": {
    "execution": {
     "iopub.execute_input": "2021-11-16T06:11:50.281649Z",
     "iopub.status.busy": "2021-11-16T06:11:50.281178Z",
     "iopub.status.idle": "2021-11-16T06:11:51.163645Z",
     "shell.execute_reply": "2021-11-16T06:11:51.162781Z",
     "shell.execute_reply.started": "2021-11-16T06:11:50.281611Z"
    }
   },
   "outputs": [],
   "source": [
    "#Calculating Cosine Similarity between Users\n",
    "from sklearn.metrics import pairwise_distances\n",
    "from scipy.spatial.distance import cosine, correlation"
   ]
  },
  {
   "cell_type": "code",
   "execution_count": 13,
   "metadata": {
    "execution": {
     "iopub.execute_input": "2021-11-16T06:11:51.165924Z",
     "iopub.status.busy": "2021-11-16T06:11:51.165615Z",
     "iopub.status.idle": "2021-11-16T06:11:51.411059Z",
     "shell.execute_reply": "2021-11-16T06:11:51.409955Z",
     "shell.execute_reply.started": "2021-11-16T06:11:51.165896Z"
    }
   },
   "outputs": [],
   "source": [
    "user_sim = 1 - pairwise_distances( user_movies_df.values,metric='cosine')"
   ]
  },
  {
   "cell_type": "code",
   "execution_count": 14,
   "metadata": {
    "execution": {
     "iopub.execute_input": "2021-11-16T06:11:51.412828Z",
     "iopub.status.busy": "2021-11-16T06:11:51.412459Z",
     "iopub.status.idle": "2021-11-16T06:11:51.420624Z",
     "shell.execute_reply": "2021-11-16T06:11:51.419581Z",
     "shell.execute_reply.started": "2021-11-16T06:11:51.412795Z"
    }
   },
   "outputs": [],
   "source": [
    "user_sim"
   ]
  },
  {
   "cell_type": "code",
   "execution_count": 15,
   "metadata": {
    "execution": {
     "iopub.execute_input": "2021-11-16T06:11:51.422421Z",
     "iopub.status.busy": "2021-11-16T06:11:51.421766Z",
     "iopub.status.idle": "2021-11-16T06:11:51.429096Z",
     "shell.execute_reply": "2021-11-16T06:11:51.428433Z",
     "shell.execute_reply.started": "2021-11-16T06:11:51.422387Z"
    }
   },
   "outputs": [],
   "source": [
    "#Store the results in a dataframe\n",
    "user_sim_df = pd.DataFrame(user_sim)"
   ]
  },
  {
   "cell_type": "code",
   "execution_count": 16,
   "metadata": {
    "execution": {
     "iopub.execute_input": "2021-11-16T06:11:51.430607Z",
     "iopub.status.busy": "2021-11-16T06:11:51.430173Z",
     "iopub.status.idle": "2021-11-16T06:11:51.441402Z",
     "shell.execute_reply": "2021-11-16T06:11:51.440343Z",
     "shell.execute_reply.started": "2021-11-16T06:11:51.430578Z"
    }
   },
   "outputs": [],
   "source": [
    "#Set the index and column names to user ids \n",
    "user_sim_df.index = movies_df.userId.unique()\n",
    "user_sim_df.columns = movies_df.userId.unique()"
   ]
  },
  {
   "cell_type": "code",
   "execution_count": 17,
   "metadata": {
    "execution": {
     "iopub.execute_input": "2021-11-16T06:11:51.443063Z",
     "iopub.status.busy": "2021-11-16T06:11:51.442627Z",
     "iopub.status.idle": "2021-11-16T06:11:51.458929Z",
     "shell.execute_reply": "2021-11-16T06:11:51.458090Z",
     "shell.execute_reply.started": "2021-11-16T06:11:51.443012Z"
    }
   },
   "outputs": [],
   "source": [
    "user_sim_df.iloc[0:5, 0:5]"
   ]
  },
  {
   "cell_type": "code",
   "execution_count": 18,
   "metadata": {
    "execution": {
     "iopub.execute_input": "2021-11-16T06:11:51.460714Z",
     "iopub.status.busy": "2021-11-16T06:11:51.460274Z",
     "iopub.status.idle": "2021-11-16T06:11:51.477216Z",
     "shell.execute_reply": "2021-11-16T06:11:51.476490Z",
     "shell.execute_reply.started": "2021-11-16T06:11:51.460682Z"
    }
   },
   "outputs": [],
   "source": [
    "np.fill_diagonal(user_sim, 0)\n",
    "user_sim_df.iloc[0:5, 0:5]"
   ]
  },
  {
   "cell_type": "code",
   "execution_count": 19,
   "metadata": {
    "execution": {
     "iopub.execute_input": "2021-11-16T06:11:51.478903Z",
     "iopub.status.busy": "2021-11-16T06:11:51.478443Z",
     "iopub.status.idle": "2021-11-16T06:11:51.589210Z",
     "shell.execute_reply": "2021-11-16T06:11:51.588253Z",
     "shell.execute_reply.started": "2021-11-16T06:11:51.478874Z"
    }
   },
   "outputs": [],
   "source": [
    "#Most Similar Users\n",
    "user_sim_df.idxmax(axis=1)[0:5]"
   ]
  },
  {
   "cell_type": "code",
   "execution_count": null,
   "metadata": {},
   "outputs": [],
   "source": []
  }
 ],
 "metadata": {
  "kernelspec": {
   "display_name": "Python 3 (ipykernel)",
   "language": "python",
   "name": "python3"
  },
  "language_info": {
   "codemirror_mode": {
    "name": "ipython",
    "version": 3
   },
   "file_extension": ".py",
   "mimetype": "text/x-python",
   "name": "python",
   "nbconvert_exporter": "python",
   "pygments_lexer": "ipython3",
   "version": "3.9.7"
  }
 },
 "nbformat": 4,
 "nbformat_minor": 4
}
