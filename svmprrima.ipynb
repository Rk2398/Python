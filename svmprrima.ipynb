{
 "cells": [
  {
   "cell_type": "code",
   "execution_count": 1,
   "metadata": {
    "execution": {
     "iopub.execute_input": "2021-11-29T06:32:16.181951Z",
     "iopub.status.busy": "2021-11-29T06:32:16.181308Z",
     "iopub.status.idle": "2021-11-29T06:32:17.285483Z",
     "shell.execute_reply": "2021-11-29T06:32:17.284418Z",
     "shell.execute_reply.started": "2021-11-29T06:32:16.181913Z"
    }
   },
   "outputs": [],
   "source": [
    "# SVM Classification\n",
    "import pandas as pd\n",
    "import numpy as np\n",
    "#from sklearn.feature_extraction.text import CountVectorizer, TfidfVectorizer\n",
    "from sklearn.preprocessing import StandardScaler\n",
    "\n",
    "from sklearn import svm\n",
    "from sklearn.svm import SVC\n",
    "from sklearn.model_selection import GridSearchCV\n",
    "from sklearn.metrics import classification_report\n",
    "\n",
    "\n",
    "from sklearn.metrics import accuracy_score, confusion_matrix\n",
    "from sklearn.model_selection import train_test_split, cross_val_score\n",
    "\n"
   ]
  },
  {
   "cell_type": "code",
   "execution_count": 2,
   "metadata": {
    "execution": {
     "iopub.execute_input": "2021-11-29T06:32:17.288066Z",
     "iopub.status.busy": "2021-11-29T06:32:17.287673Z",
     "iopub.status.idle": "2021-11-29T06:32:17.311220Z",
     "shell.execute_reply": "2021-11-29T06:32:17.310096Z",
     "shell.execute_reply.started": "2021-11-29T06:32:17.288032Z"
    }
   },
   "outputs": [],
   "source": [
    "filename = '../input/prima123/pima-indians-diabetes.data.csv'\n",
    "names = ['preg', 'plas', 'pres', 'skin', 'test', 'mass', 'pedi', 'age', 'class']\n",
    "dataframe = pd.read_csv(filename, names=names)\n",
    "array = dataframe.values\n",
    "X = array[:,0:8]\n",
    "Y = array[:,8]"
   ]
  },
  {
   "cell_type": "code",
   "execution_count": 3,
   "metadata": {
    "execution": {
     "iopub.execute_input": "2021-11-29T06:32:17.312866Z",
     "iopub.status.busy": "2021-11-29T06:32:17.312407Z",
     "iopub.status.idle": "2021-11-29T06:32:17.319576Z",
     "shell.execute_reply": "2021-11-29T06:32:17.318721Z",
     "shell.execute_reply.started": "2021-11-29T06:32:17.312819Z"
    }
   },
   "outputs": [],
   "source": [
    "X_train, X_test, y_train, y_test = train_test_split(X,Y, test_size = 0.3)"
   ]
  },
  {
   "cell_type": "code",
   "execution_count": 4,
   "metadata": {
    "execution": {
     "iopub.execute_input": "2021-11-29T06:32:17.321380Z",
     "iopub.status.busy": "2021-11-29T06:32:17.320816Z",
     "iopub.status.idle": "2021-11-29T06:32:17.337046Z",
     "shell.execute_reply": "2021-11-29T06:32:17.335923Z",
     "shell.execute_reply.started": "2021-11-29T06:32:17.321346Z"
    }
   },
   "outputs": [],
   "source": [
    "X_train.shape, y_train.shape, X_test.shape, y_test.shape"
   ]
  },
  {
   "cell_type": "markdown",
   "metadata": {},
   "source": [
    "### Grid Search CV"
   ]
  },
  {
   "cell_type": "code",
   "execution_count": 5,
   "metadata": {
    "execution": {
     "iopub.execute_input": "2021-11-29T06:32:17.340031Z",
     "iopub.status.busy": "2021-11-29T06:32:17.339392Z",
     "iopub.status.idle": "2021-11-29T06:32:21.921096Z",
     "shell.execute_reply": "2021-11-29T06:32:21.920101Z",
     "shell.execute_reply.started": "2021-11-29T06:32:17.339974Z"
    }
   },
   "outputs": [],
   "source": [
    "clf = SVC()\n",
    "param_grid = [{'kernel':['rbf'],'gamma':[50,5,10,0.5],'C':[15,14,13,12,11,10,0.1,0.001] }]\n",
    "gsv = GridSearchCV(clf,param_grid,cv=10)\n",
    "gsv.fit(X_train,y_train)"
   ]
  },
  {
   "cell_type": "code",
   "execution_count": 6,
   "metadata": {
    "execution": {
     "iopub.execute_input": "2021-11-29T06:32:21.923058Z",
     "iopub.status.busy": "2021-11-29T06:32:21.922715Z",
     "iopub.status.idle": "2021-11-29T06:32:21.928985Z",
     "shell.execute_reply": "2021-11-29T06:32:21.928039Z",
     "shell.execute_reply.started": "2021-11-29T06:32:21.923028Z"
    }
   },
   "outputs": [],
   "source": [
    "gsv.best_params_ , gsv.best_score_ "
   ]
  },
  {
   "cell_type": "code",
   "execution_count": 7,
   "metadata": {
    "execution": {
     "iopub.execute_input": "2021-11-29T06:32:21.930486Z",
     "iopub.status.busy": "2021-11-29T06:32:21.930163Z",
     "iopub.status.idle": "2021-11-29T06:32:21.967424Z",
     "shell.execute_reply": "2021-11-29T06:32:21.966421Z",
     "shell.execute_reply.started": "2021-11-29T06:32:21.930456Z"
    }
   },
   "outputs": [],
   "source": [
    "clf = SVC(C= 15, gamma = 50)\n",
    "clf.fit(X_train , y_train)\n",
    "y_pred = clf.predict(X_test)\n",
    "acc = accuracy_score(y_test, y_pred) * 100\n",
    "print(\"Accuracy =\", acc)\n",
    "confusion_matrix(y_test, y_pred)"
   ]
  },
  {
   "cell_type": "code",
   "execution_count": null,
   "metadata": {},
   "outputs": [],
   "source": []
  }
 ],
 "metadata": {
  "kernelspec": {
   "display_name": "Python 3 (ipykernel)",
   "language": "python",
   "name": "python3"
  },
  "language_info": {
   "codemirror_mode": {
    "name": "ipython",
    "version": 3
   },
   "file_extension": ".py",
   "mimetype": "text/x-python",
   "name": "python",
   "nbconvert_exporter": "python",
   "pygments_lexer": "ipython3",
   "version": "3.9.7"
  }
 },
 "nbformat": 4,
 "nbformat_minor": 4
}
