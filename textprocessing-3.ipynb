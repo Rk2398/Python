{
 "cells": [
  {
   "cell_type": "code",
   "execution_count": 1,
   "metadata": {
    "execution": {
     "iopub.execute_input": "2022-01-02T05:01:08.916239Z",
     "iopub.status.busy": "2022-01-02T05:01:08.915807Z",
     "iopub.status.idle": "2022-01-02T05:01:09.837044Z",
     "shell.execute_reply": "2022-01-02T05:01:09.835947Z",
     "shell.execute_reply.started": "2022-01-02T05:01:08.916194Z"
    }
   },
   "outputs": [],
   "source": [
    "import numpy as np # linear algebra\n",
    "import pandas as pd # data processing, CSV file I/O (e.g. pd.read_csv)\n",
    "import string # special operations on strings\n",
    "import spacy # language models\n",
    "\n",
    "from matplotlib.pyplot import imread\n",
    "from matplotlib import pyplot as plt\n",
    "from wordcloud import WordCloud\n",
    "%matplotlib inline"
   ]
  },
  {
   "cell_type": "code",
   "execution_count": null,
   "metadata": {},
   "outputs": [],
   "source": []
  },
  {
   "cell_type": "code",
   "execution_count": 2,
   "metadata": {
    "execution": {
     "iopub.execute_input": "2022-01-02T05:01:09.840475Z",
     "iopub.status.busy": "2022-01-02T05:01:09.839999Z",
     "iopub.status.idle": "2022-01-02T05:01:09.845062Z",
     "shell.execute_reply": "2022-01-02T05:01:09.844182Z",
     "shell.execute_reply.started": "2022-01-02T05:01:09.840424Z"
    }
   },
   "outputs": [],
   "source": [
    "#!python -m spacy download en_core_web_md"
   ]
  },
  {
   "cell_type": "code",
   "execution_count": 3,
   "metadata": {
    "execution": {
     "iopub.execute_input": "2022-01-02T05:01:09.846908Z",
     "iopub.status.busy": "2022-01-02T05:01:09.846299Z",
     "iopub.status.idle": "2022-01-02T05:01:09.880120Z",
     "shell.execute_reply": "2022-01-02T05:01:09.879232Z",
     "shell.execute_reply.started": "2022-01-02T05:01:09.846867Z"
    }
   },
   "outputs": [],
   "source": [
    "import pandas\n",
    "book=pd.read_csv(\"../input/apple123/apple.txt\",error_bad_lines=False)"
   ]
  },
  {
   "cell_type": "code",
   "execution_count": 4,
   "metadata": {
    "execution": {
     "iopub.execute_input": "2022-01-02T05:01:09.882003Z",
     "iopub.status.busy": "2022-01-02T05:01:09.881464Z",
     "iopub.status.idle": "2022-01-02T05:01:09.907957Z",
     "shell.execute_reply": "2022-01-02T05:01:09.907014Z",
     "shell.execute_reply.started": "2022-01-02T05:01:09.881967Z"
    }
   },
   "outputs": [],
   "source": [
    "book"
   ]
  },
  {
   "cell_type": "code",
   "execution_count": 5,
   "metadata": {
    "execution": {
     "iopub.execute_input": "2022-01-02T05:01:09.912227Z",
     "iopub.status.busy": "2022-01-02T05:01:09.911881Z",
     "iopub.status.idle": "2022-01-02T05:01:09.922766Z",
     "shell.execute_reply": "2022-01-02T05:01:09.921910Z",
     "shell.execute_reply.started": "2022-01-02T05:01:09.912190Z"
    }
   },
   "outputs": [],
   "source": [
    "book = [x.strip() for x in book.x] # remove both the leading and the trailing characters\n",
    "book = [x for x in book if x] # removes empty strings, because they are considered in Python as False\n",
    "book[0:10]"
   ]
  },
  {
   "cell_type": "code",
   "execution_count": 6,
   "metadata": {
    "execution": {
     "iopub.execute_input": "2022-01-02T05:01:09.925296Z",
     "iopub.status.busy": "2022-01-02T05:01:09.924701Z",
     "iopub.status.idle": "2022-01-02T05:01:09.936969Z",
     "shell.execute_reply": "2022-01-02T05:01:09.935882Z",
     "shell.execute_reply.started": "2022-01-02T05:01:09.925259Z"
    }
   },
   "outputs": [],
   "source": [
    "# Joining the list into one string/text\n",
    "text = ' '.join(book)\n",
    "len(text)"
   ]
  },
  {
   "cell_type": "code",
   "execution_count": 7,
   "metadata": {
    "execution": {
     "iopub.execute_input": "2022-01-02T05:01:09.939042Z",
     "iopub.status.busy": "2022-01-02T05:01:09.938593Z",
     "iopub.status.idle": "2022-01-02T05:01:09.952378Z",
     "shell.execute_reply": "2022-01-02T05:01:09.951314Z",
     "shell.execute_reply.started": "2022-01-02T05:01:09.938993Z"
    }
   },
   "outputs": [],
   "source": [
    "#Punctuation\n",
    "no_punc_text = text.translate(str.maketrans('', '', string.punctuation)) #with arguments (x, y, z) where 'x' and 'y'\n",
    "# must be equal-length strings and characters in 'x'\n",
    "# are replaced by characters in 'y'. 'z'\n",
    "# is a string (string.punctuation here)\n",
    "no_punc_text"
   ]
  },
  {
   "cell_type": "code",
   "execution_count": 8,
   "metadata": {
    "execution": {
     "iopub.execute_input": "2022-01-02T05:01:09.954521Z",
     "iopub.status.busy": "2022-01-02T05:01:09.953757Z",
     "iopub.status.idle": "2022-01-02T05:01:11.748598Z",
     "shell.execute_reply": "2022-01-02T05:01:11.747798Z",
     "shell.execute_reply.started": "2022-01-02T05:01:09.954485Z"
    }
   },
   "outputs": [],
   "source": [
    "#Stopwords\n",
    "import nltk\n",
    "from nltk.corpus import stopwords\n",
    "nltk.download('punkt')"
   ]
  },
  {
   "cell_type": "code",
   "execution_count": 9,
   "metadata": {
    "execution": {
     "iopub.execute_input": "2022-01-02T05:01:11.750206Z",
     "iopub.status.busy": "2022-01-02T05:01:11.749912Z",
     "iopub.status.idle": "2022-01-02T05:01:11.795176Z",
     "shell.execute_reply": "2022-01-02T05:01:11.794153Z",
     "shell.execute_reply.started": "2022-01-02T05:01:11.750176Z"
    }
   },
   "outputs": [],
   "source": [
    "#Tokenization\n",
    "from nltk.tokenize import word_tokenize\n",
    "text_tokens = word_tokenize(no_punc_text)\n",
    "print(text_tokens[0:50])"
   ]
  },
  {
   "cell_type": "code",
   "execution_count": 10,
   "metadata": {
    "execution": {
     "iopub.execute_input": "2022-01-02T05:01:11.797145Z",
     "iopub.status.busy": "2022-01-02T05:01:11.796696Z",
     "iopub.status.idle": "2022-01-02T05:01:11.802668Z",
     "shell.execute_reply": "2022-01-02T05:01:11.801832Z",
     "shell.execute_reply.started": "2022-01-02T05:01:11.797100Z"
    }
   },
   "outputs": [],
   "source": [
    "len(text_tokens)"
   ]
  },
  {
   "cell_type": "code",
   "execution_count": 11,
   "metadata": {
    "execution": {
     "iopub.execute_input": "2022-01-02T05:01:11.804097Z",
     "iopub.status.busy": "2022-01-02T05:01:11.803809Z",
     "iopub.status.idle": "2022-01-02T05:01:11.938051Z",
     "shell.execute_reply": "2022-01-02T05:01:11.936953Z",
     "shell.execute_reply.started": "2022-01-02T05:01:11.804068Z"
    }
   },
   "outputs": [],
   "source": [
    "#Remove stopwords\n",
    "import nltk\n",
    "nltk.download('stopwords')\n",
    "\n",
    "my_stop_words = stopwords.words('english')\n",
    "my_stop_words.append('the')\n",
    "no_stop_tokens = [word for word in text_tokens if not word in my_stop_words]\n",
    "print(no_stop_tokens[0:40])"
   ]
  },
  {
   "cell_type": "code",
   "execution_count": 12,
   "metadata": {
    "execution": {
     "iopub.execute_input": "2022-01-02T05:01:11.940018Z",
     "iopub.status.busy": "2022-01-02T05:01:11.939633Z",
     "iopub.status.idle": "2022-01-02T05:01:11.946088Z",
     "shell.execute_reply": "2022-01-02T05:01:11.945222Z",
     "shell.execute_reply.started": "2022-01-02T05:01:11.939984Z"
    }
   },
   "outputs": [],
   "source": [
    "#Noramalize the data\n",
    "lower_words = [x.lower() for x in no_stop_tokens]\n",
    "print(lower_words[0:25])"
   ]
  },
  {
   "cell_type": "code",
   "execution_count": 13,
   "metadata": {
    "execution": {
     "iopub.execute_input": "2022-01-02T05:01:11.947315Z",
     "iopub.status.busy": "2022-01-02T05:01:11.947055Z",
     "iopub.status.idle": "2022-01-02T05:01:12.025732Z",
     "shell.execute_reply": "2022-01-02T05:01:12.024863Z",
     "shell.execute_reply.started": "2022-01-02T05:01:11.947289Z"
    }
   },
   "outputs": [],
   "source": [
    "#Stemming\n",
    "from nltk.stem import PorterStemmer\n",
    "ps = PorterStemmer()\n",
    "stemmed_tokens = [ps.stem(word) for word in lower_words]\n",
    "print(stemmed_tokens[0:40])"
   ]
  },
  {
   "cell_type": "code",
   "execution_count": 14,
   "metadata": {
    "execution": {
     "iopub.execute_input": "2022-01-02T05:01:12.027226Z",
     "iopub.status.busy": "2022-01-02T05:01:12.026927Z",
     "iopub.status.idle": "2022-01-02T05:01:12.031139Z",
     "shell.execute_reply": "2022-01-02T05:01:12.030122Z",
     "shell.execute_reply.started": "2022-01-02T05:01:12.027195Z"
    }
   },
   "outputs": [],
   "source": [
    "#!python -m spacy download en"
   ]
  },
  {
   "cell_type": "code",
   "execution_count": 19,
   "metadata": {
    "execution": {
     "iopub.execute_input": "2022-01-02T05:11:56.193551Z",
     "iopub.status.busy": "2022-01-02T05:11:56.193147Z",
     "iopub.status.idle": "2022-01-02T05:11:57.588758Z",
     "shell.execute_reply": "2022-01-02T05:11:57.587556Z",
     "shell.execute_reply.started": "2022-01-02T05:11:56.193517Z"
    }
   },
   "outputs": [],
   "source": [
    "# NLP english language model of spacy library\n",
    "nlp = spacy.load('en') "
   ]
  },
  {
   "cell_type": "code",
   "execution_count": null,
   "metadata": {},
   "outputs": [],
   "source": []
  },
  {
   "cell_type": "code",
   "execution_count": 20,
   "metadata": {
    "execution": {
     "iopub.execute_input": "2022-01-02T05:12:03.719318Z",
     "iopub.status.busy": "2022-01-02T05:12:03.718883Z",
     "iopub.status.idle": "2022-01-02T05:12:04.271686Z",
     "shell.execute_reply": "2022-01-02T05:12:04.270638Z",
     "shell.execute_reply.started": "2022-01-02T05:12:03.719277Z"
    }
   },
   "outputs": [],
   "source": [
    "# lemmas being one of them, but mostly POS, which will follow later\n",
    "doc = nlp(' '.join(no_stop_tokens))\n",
    "print(doc[0:40])"
   ]
  },
  {
   "cell_type": "code",
   "execution_count": 21,
   "metadata": {
    "execution": {
     "iopub.execute_input": "2022-01-02T05:12:32.480999Z",
     "iopub.status.busy": "2022-01-02T05:12:32.480146Z",
     "iopub.status.idle": "2022-01-02T05:12:32.524344Z",
     "shell.execute_reply": "2022-01-02T05:12:32.521901Z",
     "shell.execute_reply.started": "2022-01-02T05:12:32.480947Z"
    }
   },
   "outputs": [],
   "source": [
    "lemmas = [token.lemma_ for token in lower_words]\n",
    "print(lemmas[0:25])"
   ]
  },
  {
   "cell_type": "code",
   "execution_count": null,
   "metadata": {},
   "outputs": [],
   "source": []
  },
  {
   "cell_type": "markdown",
   "metadata": {},
   "source": [
    "#### Feature Extraction"
   ]
  },
  {
   "cell_type": "code",
   "execution_count": 23,
   "metadata": {
    "execution": {
     "iopub.execute_input": "2022-01-02T05:14:15.083282Z",
     "iopub.status.busy": "2022-01-02T05:14:15.082852Z",
     "iopub.status.idle": "2022-01-02T05:14:15.105982Z",
     "shell.execute_reply": "2022-01-02T05:14:15.104984Z",
     "shell.execute_reply.started": "2022-01-02T05:14:15.083242Z"
    }
   },
   "outputs": [],
   "source": [
    "from sklearn.feature_extraction.text import CountVectorizer\n",
    "vectorizer = CountVectorizer()\n",
    "X = vectorizer.fit_transform(stemmed_tokens)\n",
    "X"
   ]
  },
  {
   "cell_type": "code",
   "execution_count": 24,
   "metadata": {
    "execution": {
     "iopub.execute_input": "2022-01-02T05:14:40.133884Z",
     "iopub.status.busy": "2022-01-02T05:14:40.133426Z",
     "iopub.status.idle": "2022-01-02T05:14:40.140630Z",
     "shell.execute_reply": "2022-01-02T05:14:40.139463Z",
     "shell.execute_reply.started": "2022-01-02T05:14:40.133842Z"
    }
   },
   "outputs": [],
   "source": [
    "print(vectorizer.get_feature_names()[40:90])"
   ]
  },
  {
   "cell_type": "code",
   "execution_count": null,
   "metadata": {},
   "outputs": [],
   "source": []
  },
  {
   "cell_type": "markdown",
   "metadata": {},
   "source": [
    "####  Generate wordcloud"
   ]
  },
  {
   "cell_type": "code",
   "execution_count": 25,
   "metadata": {
    "execution": {
     "iopub.execute_input": "2022-01-02T05:14:53.951917Z",
     "iopub.status.busy": "2022-01-02T05:14:53.951503Z",
     "iopub.status.idle": "2022-01-02T05:14:53.961373Z",
     "shell.execute_reply": "2022-01-02T05:14:53.960141Z",
     "shell.execute_reply.started": "2022-01-02T05:14:53.951882Z"
    }
   },
   "outputs": [],
   "source": [
    "import matplotlib.pyplot as plt\n",
    "%matplotlib inline\n",
    "from wordcloud import WordCloud, STOPWORDS\n",
    "# Define a function to plot word cloud\n",
    "def plot_cloud(wordcloud):\n",
    "    # Set figure size\n",
    "    plt.figure(figsize=(40, 30))\n",
    "    # Display image\n",
    "    plt.imshow(wordcloud) \n",
    "    # No axis details\n",
    "    plt.axis(\"off\");"
   ]
  },
  {
   "cell_type": "code",
   "execution_count": 26,
   "metadata": {
    "execution": {
     "iopub.execute_input": "2022-01-02T05:15:21.389958Z",
     "iopub.status.busy": "2022-01-02T05:15:21.389474Z",
     "iopub.status.idle": "2022-01-02T05:15:31.908933Z",
     "shell.execute_reply": "2022-01-02T05:15:31.908077Z",
     "shell.execute_reply.started": "2022-01-02T05:15:21.389912Z"
    }
   },
   "outputs": [],
   "source": [
    "# Generate wordcloud\n",
    "stopwords = STOPWORDS\n",
    "stopwords.add('will')\n",
    "wordcloud = WordCloud(width = 3000, height = 2000, background_color='black', max_words=100,colormap='Set2',stopwords=stopwords).generate(text)\n",
    "# Plot\n",
    "plot_cloud(wordcloud)"
   ]
  },
  {
   "cell_type": "code",
   "execution_count": null,
   "metadata": {},
   "outputs": [],
   "source": []
  },
  {
   "cell_type": "code",
   "execution_count": null,
   "metadata": {
    "execution": {
     "iopub.status.busy": "2022-01-02T05:01:12.194035Z",
     "iopub.status.idle": "2022-01-02T05:01:12.194488Z"
    }
   },
   "outputs": [],
   "source": [
    "# Save image\n",
    "#wordcloud.to_file(\"wordcloud.png\")"
   ]
  }
 ],
 "metadata": {
  "kernelspec": {
   "display_name": "Python 3 (ipykernel)",
   "language": "python",
   "name": "python3"
  },
  "language_info": {
   "codemirror_mode": {
    "name": "ipython",
    "version": 3
   },
   "file_extension": ".py",
   "mimetype": "text/x-python",
   "name": "python",
   "nbconvert_exporter": "python",
   "pygments_lexer": "ipython3",
   "version": "3.9.7"
  }
 },
 "nbformat": 4,
 "nbformat_minor": 4
}
