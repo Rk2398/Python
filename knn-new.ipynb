{
 "cells": [
  {
   "cell_type": "code",
   "execution_count": 1,
   "metadata": {
    "execution": {
     "iopub.execute_input": "2021-11-29T07:10:23.550466Z",
     "iopub.status.busy": "2021-11-29T07:10:23.549796Z",
     "iopub.status.idle": "2021-11-29T07:10:24.706339Z",
     "shell.execute_reply": "2021-11-29T07:10:24.705332Z",
     "shell.execute_reply.started": "2021-11-29T07:10:23.550411Z"
    }
   },
   "outputs": [],
   "source": [
    "# KNN Classification\n",
    "from pandas import read_csv\n",
    "import numpy as np\n",
    "from sklearn.model_selection import KFold\n",
    "from sklearn.model_selection import cross_val_score\n",
    "from sklearn.neighbors import KNeighborsClassifier"
   ]
  },
  {
   "cell_type": "code",
   "execution_count": 2,
   "metadata": {
    "execution": {
     "iopub.execute_input": "2021-11-29T07:10:24.709841Z",
     "iopub.status.busy": "2021-11-29T07:10:24.709361Z",
     "iopub.status.idle": "2021-11-29T07:10:24.733026Z",
     "shell.execute_reply": "2021-11-29T07:10:24.732070Z",
     "shell.execute_reply.started": "2021-11-29T07:10:24.709777Z"
    }
   },
   "outputs": [],
   "source": [
    "filename = '../input/prima123/pima-indians-diabetes.data.csv'\n",
    "names = [\n",
    "    'preg', 'plas', 'pres', 'skin', 'test', 'mass', 'pedi', 'age', 'class'\n",
    "]\n",
    "dataframe = read_csv(filename, names=names)\n",
    "array = dataframe.values\n",
    "X = array[:, 0:8]\n",
    "Y = array[:, 8]"
   ]
  },
  {
   "cell_type": "code",
   "execution_count": 3,
   "metadata": {
    "execution": {
     "iopub.execute_input": "2021-11-29T07:10:24.735291Z",
     "iopub.status.busy": "2021-11-29T07:10:24.734550Z",
     "iopub.status.idle": "2021-11-29T07:10:24.744790Z",
     "shell.execute_reply": "2021-11-29T07:10:24.743396Z",
     "shell.execute_reply.started": "2021-11-29T07:10:24.735243Z"
    }
   },
   "outputs": [],
   "source": [
    "num_folds = 10\n",
    "kfold = KFold(n_splits=10)"
   ]
  },
  {
   "cell_type": "code",
   "execution_count": 4,
   "metadata": {
    "execution": {
     "iopub.execute_input": "2021-11-29T07:10:24.747432Z",
     "iopub.status.busy": "2021-11-29T07:10:24.746969Z",
     "iopub.status.idle": "2021-11-29T07:10:24.819492Z",
     "shell.execute_reply": "2021-11-29T07:10:24.818640Z",
     "shell.execute_reply.started": "2021-11-29T07:10:24.747399Z"
    }
   },
   "outputs": [],
   "source": [
    "model = KNeighborsClassifier(n_neighbors=17)\n",
    "results = cross_val_score(model, X, Y, cv=kfold)"
   ]
  },
  {
   "cell_type": "code",
   "execution_count": 5,
   "metadata": {
    "execution": {
     "iopub.execute_input": "2021-11-29T07:10:24.822013Z",
     "iopub.status.busy": "2021-11-29T07:10:24.821691Z",
     "iopub.status.idle": "2021-11-29T07:10:24.827128Z",
     "shell.execute_reply": "2021-11-29T07:10:24.826061Z",
     "shell.execute_reply.started": "2021-11-29T07:10:24.821983Z"
    }
   },
   "outputs": [],
   "source": [
    "print(results.mean())"
   ]
  },
  {
   "cell_type": "markdown",
   "metadata": {},
   "source": [
    "### Grid Search for Algorithm Tuning"
   ]
  },
  {
   "cell_type": "code",
   "execution_count": 6,
   "metadata": {
    "execution": {
     "iopub.execute_input": "2021-11-29T07:10:24.829473Z",
     "iopub.status.busy": "2021-11-29T07:10:24.828760Z",
     "iopub.status.idle": "2021-11-29T07:10:24.840025Z",
     "shell.execute_reply": "2021-11-29T07:10:24.838958Z",
     "shell.execute_reply.started": "2021-11-29T07:10:24.829431Z"
    }
   },
   "outputs": [],
   "source": [
    "# Grid Search for Algorithm Tuning\n",
    "import numpy\n",
    "from pandas import read_csv\n",
    "from sklearn.neighbors import KNeighborsClassifier\n",
    "from sklearn.model_selection import GridSearchCV"
   ]
  },
  {
   "cell_type": "code",
   "execution_count": 7,
   "metadata": {
    "execution": {
     "iopub.execute_input": "2021-11-29T07:10:24.842371Z",
     "iopub.status.busy": "2021-11-29T07:10:24.841781Z",
     "iopub.status.idle": "2021-11-29T07:10:24.858051Z",
     "shell.execute_reply": "2021-11-29T07:10:24.856726Z",
     "shell.execute_reply.started": "2021-11-29T07:10:24.842323Z"
    }
   },
   "outputs": [],
   "source": [
    "filename = '../input/prima123/pima-indians-diabetes.data.csv'\n",
    "names = [\n",
    "    'preg', 'plas', 'pres', 'skin', 'test', 'mass', 'pedi', 'age', 'class'\n",
    "]\n",
    "dataframe = read_csv(filename, names=names)\n",
    "array = dataframe.values\n",
    "X = array[:, 0:8]\n",
    "Y = array[:, 8]"
   ]
  },
  {
   "cell_type": "code",
   "execution_count": 8,
   "metadata": {
    "execution": {
     "iopub.execute_input": "2021-11-29T07:10:24.859952Z",
     "iopub.status.busy": "2021-11-29T07:10:24.859397Z",
     "iopub.status.idle": "2021-11-29T07:10:24.866199Z",
     "shell.execute_reply": "2021-11-29T07:10:24.865129Z",
     "shell.execute_reply.started": "2021-11-29T07:10:24.859907Z"
    }
   },
   "outputs": [],
   "source": [
    "n_neighbors = numpy.array(range(1,40))\n",
    "param_grid = dict(n_neighbors=n_neighbors)"
   ]
  },
  {
   "cell_type": "code",
   "execution_count": 9,
   "metadata": {
    "execution": {
     "iopub.execute_input": "2021-11-29T07:10:24.868392Z",
     "iopub.status.busy": "2021-11-29T07:10:24.867747Z",
     "iopub.status.idle": "2021-11-29T07:10:26.484108Z",
     "shell.execute_reply": "2021-11-29T07:10:26.483019Z",
     "shell.execute_reply.started": "2021-11-29T07:10:24.868355Z"
    }
   },
   "outputs": [],
   "source": [
    "model = KNeighborsClassifier()\n",
    "grid = GridSearchCV(estimator=model, param_grid=param_grid)\n",
    "grid.fit(X, Y)"
   ]
  },
  {
   "cell_type": "code",
   "execution_count": 10,
   "metadata": {
    "execution": {
     "iopub.execute_input": "2021-11-29T07:10:26.485861Z",
     "iopub.status.busy": "2021-11-29T07:10:26.485514Z",
     "iopub.status.idle": "2021-11-29T07:10:26.491087Z",
     "shell.execute_reply": "2021-11-29T07:10:26.490293Z",
     "shell.execute_reply.started": "2021-11-29T07:10:26.485828Z"
    }
   },
   "outputs": [],
   "source": [
    "print(grid.best_score_)\n",
    "print(grid.best_params_)"
   ]
  },
  {
   "cell_type": "markdown",
   "metadata": {},
   "source": [
    "### Visualizing the CV results"
   ]
  },
  {
   "cell_type": "code",
   "execution_count": 11,
   "metadata": {
    "execution": {
     "iopub.execute_input": "2021-11-29T07:10:26.493009Z",
     "iopub.status.busy": "2021-11-29T07:10:26.492417Z",
     "iopub.status.idle": "2021-11-29T07:10:28.351302Z",
     "shell.execute_reply": "2021-11-29T07:10:28.350089Z",
     "shell.execute_reply.started": "2021-11-29T07:10:26.492974Z"
    }
   },
   "outputs": [],
   "source": [
    "import matplotlib.pyplot as plt \n",
    "%matplotlib inline\n",
    "# choose k between 1 to 41\n",
    "k_range = range(1, 41)\n",
    "k_scores = []\n",
    "# use iteration to caclulator different k in models, then return the average accuracy based on the cross validation\n",
    "for k in k_range:\n",
    "    knn = KNeighborsClassifier(n_neighbors=k)\n",
    "    scores = cross_val_score(knn, X, Y, cv=5)\n",
    "    k_scores.append(scores.mean())\n",
    "# plot to see clearly\n",
    "plt.plot(k_range, k_scores)\n",
    "plt.xlabel('Value of K for KNN')\n",
    "plt.ylabel('Cross-Validated Accuracy')\n",
    "plt.show()"
   ]
  },
  {
   "cell_type": "code",
   "execution_count": null,
   "metadata": {},
   "outputs": [],
   "source": []
  }
 ],
 "metadata": {
  "kernelspec": {
   "display_name": "Python 3 (ipykernel)",
   "language": "python",
   "name": "python3"
  },
  "language_info": {
   "codemirror_mode": {
    "name": "ipython",
    "version": 3
   },
   "file_extension": ".py",
   "mimetype": "text/x-python",
   "name": "python",
   "nbconvert_exporter": "python",
   "pygments_lexer": "ipython3",
   "version": "3.9.7"
  }
 },
 "nbformat": 4,
 "nbformat_minor": 4
}
